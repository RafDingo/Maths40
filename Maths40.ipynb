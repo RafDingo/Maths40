{
  "nbformat": 4,
  "nbformat_minor": 5,
  "metadata": {
    "kernelspec": {
      "name": "python3",
      "display_name": "Python 3.9.5 64-bit ('venv': venv)"
    },
    "language_info": {
      "codemirror_mode": {
        "name": "ipython",
        "version": 3
      },
      "file_extension": ".py",
      "mimetype": "text/x-python",
      "name": "python",
      "nbconvert_exporter": "python",
      "pygments_lexer": "ipython3",
      "version": "3.9.5"
    },
    "colab": {
      "name": "Maths40.ipynb",
      "provenance": [],
      "collapsed_sections": [
        "JphgUvCGHPlN",
        "A1mYO6T1_Fgc"
      ],
      "include_colab_link": true
    },
    "interpreter": {
      "hash": "3b20793682870dcea516aeaba3fd2057f006c93a3c766c9db867dd4f279cdf27"
    }
  },
  "cells": [
    {
      "cell_type": "markdown",
      "metadata": {
        "id": "view-in-github",
        "colab_type": "text"
      },
      "source": [
        "<a href=\"https://colab.research.google.com/github/RafDingo/Maths40/blob/main/Maths40.ipynb\" target=\"_parent\"><img src=\"https://colab.research.google.com/assets/colab-badge.svg\" alt=\"Open In Colab\"/></a>"
      ]
    },
    {
      "cell_type": "markdown",
      "metadata": {
        "id": "fPQZiMQ3sZAH"
      },
      "source": [
        "# Exoplanet Discoverability using Linear Regression"
      ],
      "id": "fPQZiMQ3sZAH"
    },
    {
      "cell_type": "markdown",
      "metadata": {
        "id": "Blbj1Fi8sZAH"
      },
      "source": [
        "## ***`Contents`***\n",
        "\n",
        "* [Introduction](#Introduction)\n",
        "    * [Dataset Source](#Dataset_Source)\n",
        "    * [Dataset Details](#Dataset_Details)\n",
        "    * [Dataset Variables](#Dataset_Variables)\n",
        "    * [Response Variables](#Response_Variables)\n",
        "    * [Goals and Objectives](#Goals_and_Objectives)\n",
        "    * [Data Import](#import_dataset)\n",
        "\n",
        "* [Data Cleaning and Preprocessing](#Data_Cleaning_and_Preprocessing)\n",
        "    * [Create Data Branch](#create_data_branch)\n",
        "    * [Removing Unnecessary Columns](#Removing_Unnecessary_Columns)\n",
        "        * [Renaming Columns](#Rename_Columns)\n",
        "    * [Calculate Additional Columns](#Calculate_Additional_Columns)\n",
        "        * [Data Properties](#Data_Properties)\n",
        "    * [Finding Outliers](#Finding_Outliers)\n",
        "    * [Processing Rows](#Processing_Rows)\n",
        "        * [Dropping NaN Values](#dropping_nan_values)\n",
        "\n",
        "* [Summary & Conclusions](#Summary_and_Conclusions)\n",
        "* [Literature Review](#Literature_Review)\n",
        "* [References](#References)\n",
        "\n",
        "\n",
        "---\n",
        "\n"
      ],
      "id": "Blbj1Fi8sZAH"
    },
    {
      "cell_type": "markdown",
      "metadata": {
        "id": "u718tCH7S5rh"
      },
      "source": [
        "## ***`Introduction`*** <a name=\"Introduction\"></a>\n",
        "\n"
      ],
      "id": "u718tCH7S5rh"
    },
    {
      "cell_type": "markdown",
      "metadata": {
        "id": "7pcSLSNp3IEv"
      },
      "source": [
        "Humanity have discovered thousands of planets outside of our solar system, using a variety of methods. What most of these methods have in common, is the detection of an anomoly in a signal from avisible star. This could be an exo-planet passing in front of the star from our perspective, lowering its brightness, or a wobble imparted by the mass of a planet, as both the planet's and star's gravity pulls at eachother.\n",
        "We suspect that the methods used to discover planets, would impart a bias on the way which we discover these bodies, and hope to exoplore this link. \n"
      ],
      "id": "7pcSLSNp3IEv"
    },
    {
      "cell_type": "markdown",
      "metadata": {
        "id": "r9rYg1xC32vT"
      },
      "source": [
        "### **Dataset Source** <a name=\"Dataset_Source\"></a>\n"
      ],
      "id": "r9rYg1xC32vT"
    },
    {
      "cell_type": "markdown",
      "metadata": {
        "id": "jswExJzL34kW"
      },
      "source": [
        "This research has made use of the NASA Exoplanet Archive, which is operated by the California Institute of Technology, under contract with the National Aeronautics and Space Administration under the Exoplanet Exploration Program (1)\n",
        "\n",
        "The data is sourced from multiple missions which had/have the goal of discoving exo-planets. TESS, Kepler, K2, KELT and UKIRT.\n"
      ],
      "id": "jswExJzL34kW"
    },
    {
      "cell_type": "markdown",
      "metadata": {
        "id": "QZZP7i0f36Wl"
      },
      "source": [
        "### **Dataset Details** <a name=\"Dataset_Details\"></a>\n"
      ],
      "id": "QZZP7i0f36Wl"
    },
    {
      "cell_type": "markdown",
      "metadata": {
        "id": "i66apbJr37-i"
      },
      "source": [
        "The dataset is a subset of information provided by NASA about all discovered Exo-planets. An exoplanet or extra-solar planet any planet sized body outside of our solar system. These can either orbit another star, or be star-less. (2)\n",
        "\n",
        "NASA's archive provides many features, which we limited to 28.\n",
        "After futher filtering features which are not applicable to our study, we have 18 features, and 4521 entries."
      ],
      "id": "i66apbJr37-i"
    },
    {
      "cell_type": "markdown",
      "metadata": {
        "id": "REyLGiC13AYy"
      },
      "source": [
        "### **Dataset Variables** <a name=\"Dataset_Variables\"></a>\n",
        "The features in our dataset are described in the table below."
      ],
      "id": "REyLGiC13AYy"
    },
    {
      "cell_type": "code",
      "metadata": {
        "id": "hRczSqx4VIpZ"
      },
      "source": [
        "from tabulate import tabulate\n",
        "\n",
        "from tabulate import tabulate\n",
        "\n",
        "table = [['Name','Data Type','Units','Description'],\n",
        "         ['sy_snum', 'Numeric', 'NA', 'Number of stars in the system'],\n",
        "         ['sy_pnum', 'Numeric', 'NA', 'Number of planets in the system'],\n",
        "         ['cb_flag', 'Nominal categorical', 'NA', 'Circumbinary flag: whether the planet orbits 2 stars'],\n",
        "         ['pl_orbper', 'Numeric', 'Earth days', 'Orbital period (Time it takes planet to complete an orbit'],\n",
        "         ['pl_orbsmax', 'Numeric', 'au', 'Orbit semi-Major Axis. au is the distance from Earth to sun.'],\n",
        "         ['pl_rade', 'Numeric', 'Earth radius', 'Planet radius, where 1.0 is Earth\\'s radius'],\n",
        "         ['pl_bmasse', 'Numeric', 'Earth Mass', 'Planetary Mass, where 1.0 is Earth\\'s mass'],\n",
        "         ['pl_orbeccen', 'Numeric', 'NA', 'Planet\\s orbital eccentricity'],\n",
        "         ['pl_eqt', 'Numeric', 'Kelvin', 'Equilibrium Temperature: (The planetary equilibrium temperature is a the theoretical temperature that a planet would be a black body being heated only by its parent star)'],\n",
        "         ['st_teff', 'Numeric', 'Kelvin', 'Stellar Effective Temperature'],\n",
        "         ['st_rad', 'Numeric', 'Solar Radius', 'Stellar Radius, where 1.0 is 1 of our Sun\\'s radius'],\n",
        "         ['st_mass', 'Numeric', 'Solar Mass', 'Stellar Mass, where 1.0 is 1* our Sun\\'s mass'],\n",
        "         ['st_lum', 'Numeric', 'log(Solar luminosity)', 'Stellar Luminosity'],\n",
        "         ['st_age', 'Numeric', 'gyr (Gigayear)', 'Stellar Age'],\n",
        "         ['glat', 'Numeric', 'degrees', 'Galactic Latitude'],\n",
        "         ['glon', 'Numeric', 'degrees', 'Galactic Longitude'],\n",
        "         ['sy_dist', 'Numeric', 'parsec', 'Distance'],\n",
        "         ['sy_plx', 'Numeric', 'mas (miliarcseconds)', 'Parallax: Distance the star moves in relation to other objects in the night sky'],\n",
        "        ]\n",
        "\n",
        "print(tabulate(table, headers='firstrow', tablefmt='fancy_grid'))"
      ],
      "id": "hRczSqx4VIpZ",
      "execution_count": null,
      "outputs": []
    },
    {
      "cell_type": "markdown",
      "metadata": {
        "id": "m5VDYM5aXOZd"
      },
      "source": [
        "### **Response Variables** <a name=\"Response_Variables\"></a>\n"
      ],
      "id": "m5VDYM5aXOZd"
    },
    {
      "cell_type": "markdown",
      "metadata": {
        "id": "WSFjkyAH3bGP"
      },
      "source": [
        "Our reponse variable is sy_pnum. This is the number of exo-planets detected in the star system of the exo-planet.\n",
        "\n",
        "As our study focuses on planet discoverability, this is the most logical response variable.\n"
      ],
      "id": "WSFjkyAH3bGP"
    },
    {
      "cell_type": "markdown",
      "metadata": {
        "id": "HT9fZYhn3dxN"
      },
      "source": [
        "### **Goals and Objectives** <a name=\"Goals_and_Objectives\"></a>\n"
      ],
      "id": "HT9fZYhn3dxN"
    },
    {
      "cell_type": "markdown",
      "metadata": {
        "id": "wmNdnAn53fzP"
      },
      "source": [
        "Our goal is to visuilise and explore the correlation between features of a discovered exo-planet, it's star, and the amount of planets discovered in its system.\n",
        "These correlations should provide us with insights regarding how these features affect the likelihood of an exo-planet being discovered.\n",
        "\n",
        "We will explore many relationships in our data, including:\n",
        "\n",
        "A planet's:\n",
        "* Mass\n",
        "* Radius\n",
        "* Orbital Period\n",
        "* Orbital distance (Semi-major Axis)\n",
        "* Orbital eccentricity \n",
        "* Surface temperature\n",
        "\n",
        "The star's:\n",
        "* Temperature\n",
        "* Radius\n",
        "* Mass\n",
        "* Luminosity\n",
        "* Age\n",
        "* Position (Relative to the galaxy)\n",
        "* Parallax\n",
        "* Distance from the Solar system.\n",
        "\n",
        "We will also derive the ratio between the planet and star's radii, temperatures and masses, and explore these relationships."
      ],
      "id": "wmNdnAn53fzP"
    },
    {
      "cell_type": "markdown",
      "metadata": {
        "id": "gIJzcO8E3hjI"
      },
      "source": [
        "### **Import Dataset** <a name=\"import_dataset\"></a>\n"
      ],
      "id": "gIJzcO8E3hjI"
    },
    {
      "cell_type": "code",
      "metadata": {
        "id": "efb8cd6a-175e-4091-a373-f19bd86df926"
      },
      "source": [
        "import warnings\n",
        "warnings.filterwarnings(\"ignore\")\n",
        "\n",
        "import numpy as np\n",
        "import pandas as pd\n",
        "import io\n",
        "import requests\n",
        "\n",
        "pd.set_option('display.max_columns', None) \n",
        "\n",
        "import matplotlib.pyplot as plt\n",
        "import seaborn as sns\n",
        "%matplotlib inline \n",
        "%config InlineBackend.figure_format = 'retina'\n",
        "plt.style.use(\"ggplot\")\n",
        "\n",
        "# For mac users\n",
        "import os, ssl\n",
        "if (not os.environ.get('PYTHONHTTPSVERIFY', '') and\n",
        "    getattr(ssl, '_create_unverified_context', None)): \n",
        "    ssl._create_default_https_context = ssl._create_unverified_context"
      ],
      "id": "efb8cd6a-175e-4091-a373-f19bd86df926",
      "execution_count": null,
      "outputs": []
    },
    {
      "cell_type": "code",
      "metadata": {
        "id": "66xp8LgMZcxF"
      },
      "source": [
        "url = 'https://raw.githubusercontent.com/RafDingo/Maths40/main/data/exoPlanets.csv'\n",
        "df_main = pd.read_csv(url, error_bad_lines=False, index_col=False)"
      ],
      "id": "66xp8LgMZcxF",
      "execution_count": null,
      "outputs": []
    },
    {
      "cell_type": "code",
      "metadata": {
        "colab": {
          "base_uri": "https://localhost:8080/",
          "height": 400
        },
        "id": "JOuM79pQZhpQ",
        "outputId": "de64297e-7dfa-4c70-f4ee-c3cf786f4cca"
      },
      "source": [
        "print('Shape:', df_main.shape)\n",
        "df_main.sample(10, random_state=999)"
      ],
      "id": "JOuM79pQZhpQ",
      "execution_count": null,
      "outputs": [
        {
          "output_type": "stream",
          "name": "stdout",
          "text": [
            "Shape: (4521, 28)\n"
          ]
        },
        {
          "output_type": "execute_result",
          "data": {
            "text/html": [
              "<div>\n",
              "<style scoped>\n",
              "    .dataframe tbody tr th:only-of-type {\n",
              "        vertical-align: middle;\n",
              "    }\n",
              "\n",
              "    .dataframe tbody tr th {\n",
              "        vertical-align: top;\n",
              "    }\n",
              "\n",
              "    .dataframe thead th {\n",
              "        text-align: right;\n",
              "    }\n",
              "</style>\n",
              "<table border=\"1\" class=\"dataframe\">\n",
              "  <thead>\n",
              "    <tr style=\"text-align: right;\">\n",
              "      <th></th>\n",
              "      <th>loc_rowid</th>\n",
              "      <th>sy_snum</th>\n",
              "      <th>sy_pnum</th>\n",
              "      <th>sy_mnum</th>\n",
              "      <th>cb_flag</th>\n",
              "      <th>pl_orbper</th>\n",
              "      <th>pl_orbsmax</th>\n",
              "      <th>pl_rade</th>\n",
              "      <th>pl_bmasse</th>\n",
              "      <th>pl_dens</th>\n",
              "      <th>pl_orbeccen</th>\n",
              "      <th>pl_insol</th>\n",
              "      <th>pl_eqt</th>\n",
              "      <th>ttv_flag</th>\n",
              "      <th>st_spectype</th>\n",
              "      <th>st_teff</th>\n",
              "      <th>st_rad</th>\n",
              "      <th>st_mass</th>\n",
              "      <th>st_metratio</th>\n",
              "      <th>st_lum</th>\n",
              "      <th>st_logg</th>\n",
              "      <th>st_age</th>\n",
              "      <th>st_rotp</th>\n",
              "      <th>glat</th>\n",
              "      <th>glon</th>\n",
              "      <th>sy_pmdec</th>\n",
              "      <th>sy_dist</th>\n",
              "      <th>sy_plx</th>\n",
              "    </tr>\n",
              "  </thead>\n",
              "  <tbody>\n",
              "    <tr>\n",
              "      <th>3009</th>\n",
              "      <td>3010</td>\n",
              "      <td>1</td>\n",
              "      <td>3</td>\n",
              "      <td>0</td>\n",
              "      <td>0</td>\n",
              "      <td>6.988055</td>\n",
              "      <td>0.0690</td>\n",
              "      <td>1.150</td>\n",
              "      <td>7.300</td>\n",
              "      <td>26.400000</td>\n",
              "      <td>0.00000</td>\n",
              "      <td>101.84</td>\n",
              "      <td>914.0</td>\n",
              "      <td>0</td>\n",
              "      <td>NaN</td>\n",
              "      <td>5631.00</td>\n",
              "      <td>0.80</td>\n",
              "      <td>0.93</td>\n",
              "      <td>[M/H]</td>\n",
              "      <td>-0.313</td>\n",
              "      <td>4.59</td>\n",
              "      <td>4.37</td>\n",
              "      <td>NaN</td>\n",
              "      <td>13.51572</td>\n",
              "      <td>80.80071</td>\n",
              "      <td>-7.505880</td>\n",
              "      <td>616.637000</td>\n",
              "      <td>1.593200</td>\n",
              "    </tr>\n",
              "    <tr>\n",
              "      <th>1852</th>\n",
              "      <td>1853</td>\n",
              "      <td>1</td>\n",
              "      <td>1</td>\n",
              "      <td>0</td>\n",
              "      <td>0</td>\n",
              "      <td>10.458434</td>\n",
              "      <td>0.0845</td>\n",
              "      <td>1.330</td>\n",
              "      <td>2.330</td>\n",
              "      <td>5.440000</td>\n",
              "      <td>0.00000</td>\n",
              "      <td>24.21</td>\n",
              "      <td>609.0</td>\n",
              "      <td>0</td>\n",
              "      <td>NaN</td>\n",
              "      <td>4730.00</td>\n",
              "      <td>0.72</td>\n",
              "      <td>0.76</td>\n",
              "      <td>[Fe/H]</td>\n",
              "      <td>-0.727</td>\n",
              "      <td>4.62</td>\n",
              "      <td>3.98</td>\n",
              "      <td>NaN</td>\n",
              "      <td>18.96771</td>\n",
              "      <td>79.57519</td>\n",
              "      <td>-7.082450</td>\n",
              "      <td>342.509000</td>\n",
              "      <td>2.890830</td>\n",
              "    </tr>\n",
              "    <tr>\n",
              "      <th>2512</th>\n",
              "      <td>2513</td>\n",
              "      <td>1</td>\n",
              "      <td>1</td>\n",
              "      <td>0</td>\n",
              "      <td>0</td>\n",
              "      <td>33.496900</td>\n",
              "      <td>0.2008</td>\n",
              "      <td>1.260</td>\n",
              "      <td>2.120</td>\n",
              "      <td>5.830000</td>\n",
              "      <td>0.00000</td>\n",
              "      <td>37.30</td>\n",
              "      <td>630.0</td>\n",
              "      <td>0</td>\n",
              "      <td>NaN</td>\n",
              "      <td>4681.53</td>\n",
              "      <td>0.77</td>\n",
              "      <td>0.75</td>\n",
              "      <td>[M/H]</td>\n",
              "      <td>-0.588</td>\n",
              "      <td>4.54</td>\n",
              "      <td>NaN</td>\n",
              "      <td>NaN</td>\n",
              "      <td>15.04776</td>\n",
              "      <td>74.44132</td>\n",
              "      <td>-19.463100</td>\n",
              "      <td>247.771000</td>\n",
              "      <td>4.007050</td>\n",
              "    </tr>\n",
              "    <tr>\n",
              "      <th>1469</th>\n",
              "      <td>1470</td>\n",
              "      <td>1</td>\n",
              "      <td>4</td>\n",
              "      <td>0</td>\n",
              "      <td>0</td>\n",
              "      <td>5.577212</td>\n",
              "      <td>0.0400</td>\n",
              "      <td>1.080</td>\n",
              "      <td>1.280</td>\n",
              "      <td>5.580000</td>\n",
              "      <td>0.11000</td>\n",
              "      <td>8.50</td>\n",
              "      <td>NaN</td>\n",
              "      <td>0</td>\n",
              "      <td>NaN</td>\n",
              "      <td>3360.47</td>\n",
              "      <td>0.33</td>\n",
              "      <td>0.27</td>\n",
              "      <td>NaN</td>\n",
              "      <td>-1.837</td>\n",
              "      <td>4.90</td>\n",
              "      <td>NaN</td>\n",
              "      <td>NaN</td>\n",
              "      <td>-49.94032</td>\n",
              "      <td>51.46106</td>\n",
              "      <td>74.339100</td>\n",
              "      <td>66.432100</td>\n",
              "      <td>15.024200</td>\n",
              "    </tr>\n",
              "    <tr>\n",
              "      <th>3589</th>\n",
              "      <td>3590</td>\n",
              "      <td>1</td>\n",
              "      <td>1</td>\n",
              "      <td>0</td>\n",
              "      <td>0</td>\n",
              "      <td>2.237493</td>\n",
              "      <td>0.0325</td>\n",
              "      <td>1.330</td>\n",
              "      <td>2.330</td>\n",
              "      <td>5.440000</td>\n",
              "      <td>0.00000</td>\n",
              "      <td>336.67</td>\n",
              "      <td>1160.0</td>\n",
              "      <td>0</td>\n",
              "      <td>NaN</td>\n",
              "      <td>5099.00</td>\n",
              "      <td>0.76</td>\n",
              "      <td>0.80</td>\n",
              "      <td>[Fe/H]</td>\n",
              "      <td>-0.501</td>\n",
              "      <td>4.58</td>\n",
              "      <td>4.90</td>\n",
              "      <td>NaN</td>\n",
              "      <td>12.92363</td>\n",
              "      <td>73.89376</td>\n",
              "      <td>0.090604</td>\n",
              "      <td>591.776000</td>\n",
              "      <td>1.661150</td>\n",
              "    </tr>\n",
              "    <tr>\n",
              "      <th>3347</th>\n",
              "      <td>3348</td>\n",
              "      <td>1</td>\n",
              "      <td>1</td>\n",
              "      <td>0</td>\n",
              "      <td>0</td>\n",
              "      <td>18.684049</td>\n",
              "      <td>0.1396</td>\n",
              "      <td>2.630</td>\n",
              "      <td>7.410</td>\n",
              "      <td>2.240000</td>\n",
              "      <td>0.00000</td>\n",
              "      <td>176.23</td>\n",
              "      <td>832.0</td>\n",
              "      <td>0</td>\n",
              "      <td>NaN</td>\n",
              "      <td>5573.00</td>\n",
              "      <td>1.15</td>\n",
              "      <td>0.95</td>\n",
              "      <td>[Fe/H]</td>\n",
              "      <td>0.525</td>\n",
              "      <td>4.29</td>\n",
              "      <td>10.47</td>\n",
              "      <td>NaN</td>\n",
              "      <td>11.33166</td>\n",
              "      <td>80.68890</td>\n",
              "      <td>1.326260</td>\n",
              "      <td>992.852000</td>\n",
              "      <td>0.978491</td>\n",
              "    </tr>\n",
              "    <tr>\n",
              "      <th>4251</th>\n",
              "      <td>4252</td>\n",
              "      <td>1</td>\n",
              "      <td>7</td>\n",
              "      <td>0</td>\n",
              "      <td>0</td>\n",
              "      <td>2.421937</td>\n",
              "      <td>0.0158</td>\n",
              "      <td>1.097</td>\n",
              "      <td>1.308</td>\n",
              "      <td>5.463993</td>\n",
              "      <td>0.00654</td>\n",
              "      <td>2.21</td>\n",
              "      <td>342.0</td>\n",
              "      <td>1</td>\n",
              "      <td>NaN</td>\n",
              "      <td>2566.00</td>\n",
              "      <td>0.12</td>\n",
              "      <td>0.09</td>\n",
              "      <td>[Fe/H]</td>\n",
              "      <td>-3.257</td>\n",
              "      <td>5.24</td>\n",
              "      <td>0.50</td>\n",
              "      <td>1.4</td>\n",
              "      <td>-56.64891</td>\n",
              "      <td>69.71519</td>\n",
              "      <td>-492.000000</td>\n",
              "      <td>12.429889</td>\n",
              "      <td>80.451243</td>\n",
              "    </tr>\n",
              "    <tr>\n",
              "      <th>2436</th>\n",
              "      <td>2437</td>\n",
              "      <td>1</td>\n",
              "      <td>1</td>\n",
              "      <td>0</td>\n",
              "      <td>0</td>\n",
              "      <td>9.878482</td>\n",
              "      <td>0.0932</td>\n",
              "      <td>2.580</td>\n",
              "      <td>7.180</td>\n",
              "      <td>2.300000</td>\n",
              "      <td>0.00000</td>\n",
              "      <td>187.85</td>\n",
              "      <td>1003.0</td>\n",
              "      <td>0</td>\n",
              "      <td>NaN</td>\n",
              "      <td>6150.00</td>\n",
              "      <td>1.18</td>\n",
              "      <td>1.12</td>\n",
              "      <td>[Fe/H]</td>\n",
              "      <td>0.145</td>\n",
              "      <td>4.34</td>\n",
              "      <td>3.16</td>\n",
              "      <td>NaN</td>\n",
              "      <td>19.93538</td>\n",
              "      <td>78.45346</td>\n",
              "      <td>7.767660</td>\n",
              "      <td>1031.310000</td>\n",
              "      <td>0.940878</td>\n",
              "    </tr>\n",
              "    <tr>\n",
              "      <th>2654</th>\n",
              "      <td>2655</td>\n",
              "      <td>1</td>\n",
              "      <td>3</td>\n",
              "      <td>0</td>\n",
              "      <td>0</td>\n",
              "      <td>3.619337</td>\n",
              "      <td>0.0460</td>\n",
              "      <td>1.480</td>\n",
              "      <td>2.790</td>\n",
              "      <td>4.730000</td>\n",
              "      <td>0.00000</td>\n",
              "      <td>460.66</td>\n",
              "      <td>1156.0</td>\n",
              "      <td>0</td>\n",
              "      <td>NaN</td>\n",
              "      <td>5502.00</td>\n",
              "      <td>1.06</td>\n",
              "      <td>1.02</td>\n",
              "      <td>[Fe/H]</td>\n",
              "      <td>0.009</td>\n",
              "      <td>4.39</td>\n",
              "      <td>6.30</td>\n",
              "      <td>NaN</td>\n",
              "      <td>11.28870</td>\n",
              "      <td>79.45283</td>\n",
              "      <td>20.872000</td>\n",
              "      <td>656.380000</td>\n",
              "      <td>1.494720</td>\n",
              "    </tr>\n",
              "    <tr>\n",
              "      <th>2570</th>\n",
              "      <td>2571</td>\n",
              "      <td>1</td>\n",
              "      <td>2</td>\n",
              "      <td>0</td>\n",
              "      <td>0</td>\n",
              "      <td>2.061897</td>\n",
              "      <td>0.0320</td>\n",
              "      <td>1.680</td>\n",
              "      <td>3.460</td>\n",
              "      <td>4.010000</td>\n",
              "      <td>0.00000</td>\n",
              "      <td>1069.23</td>\n",
              "      <td>1463.0</td>\n",
              "      <td>0</td>\n",
              "      <td>NaN</td>\n",
              "      <td>6021.00</td>\n",
              "      <td>1.14</td>\n",
              "      <td>0.98</td>\n",
              "      <td>[Fe/H]</td>\n",
              "      <td>0.034</td>\n",
              "      <td>4.35</td>\n",
              "      <td>5.80</td>\n",
              "      <td>NaN</td>\n",
              "      <td>19.64002</td>\n",
              "      <td>73.51949</td>\n",
              "      <td>-14.774300</td>\n",
              "      <td>968.544000</td>\n",
              "      <td>1.003920</td>\n",
              "    </tr>\n",
              "  </tbody>\n",
              "</table>\n",
              "</div>"
            ],
            "text/plain": [
              "      loc_rowid  sy_snum  sy_pnum  sy_mnum  cb_flag  pl_orbper  pl_orbsmax  \\\n",
              "3009       3010        1        3        0        0   6.988055      0.0690   \n",
              "1852       1853        1        1        0        0  10.458434      0.0845   \n",
              "2512       2513        1        1        0        0  33.496900      0.2008   \n",
              "1469       1470        1        4        0        0   5.577212      0.0400   \n",
              "3589       3590        1        1        0        0   2.237493      0.0325   \n",
              "3347       3348        1        1        0        0  18.684049      0.1396   \n",
              "4251       4252        1        7        0        0   2.421937      0.0158   \n",
              "2436       2437        1        1        0        0   9.878482      0.0932   \n",
              "2654       2655        1        3        0        0   3.619337      0.0460   \n",
              "2570       2571        1        2        0        0   2.061897      0.0320   \n",
              "\n",
              "      pl_rade  pl_bmasse    pl_dens  pl_orbeccen  pl_insol  pl_eqt  ttv_flag  \\\n",
              "3009    1.150      7.300  26.400000      0.00000    101.84   914.0         0   \n",
              "1852    1.330      2.330   5.440000      0.00000     24.21   609.0         0   \n",
              "2512    1.260      2.120   5.830000      0.00000     37.30   630.0         0   \n",
              "1469    1.080      1.280   5.580000      0.11000      8.50     NaN         0   \n",
              "3589    1.330      2.330   5.440000      0.00000    336.67  1160.0         0   \n",
              "3347    2.630      7.410   2.240000      0.00000    176.23   832.0         0   \n",
              "4251    1.097      1.308   5.463993      0.00654      2.21   342.0         1   \n",
              "2436    2.580      7.180   2.300000      0.00000    187.85  1003.0         0   \n",
              "2654    1.480      2.790   4.730000      0.00000    460.66  1156.0         0   \n",
              "2570    1.680      3.460   4.010000      0.00000   1069.23  1463.0         0   \n",
              "\n",
              "     st_spectype  st_teff  st_rad  st_mass st_metratio  st_lum  st_logg  \\\n",
              "3009         NaN  5631.00    0.80     0.93       [M/H]  -0.313     4.59   \n",
              "1852         NaN  4730.00    0.72     0.76      [Fe/H]  -0.727     4.62   \n",
              "2512         NaN  4681.53    0.77     0.75       [M/H]  -0.588     4.54   \n",
              "1469         NaN  3360.47    0.33     0.27         NaN  -1.837     4.90   \n",
              "3589         NaN  5099.00    0.76     0.80      [Fe/H]  -0.501     4.58   \n",
              "3347         NaN  5573.00    1.15     0.95      [Fe/H]   0.525     4.29   \n",
              "4251         NaN  2566.00    0.12     0.09      [Fe/H]  -3.257     5.24   \n",
              "2436         NaN  6150.00    1.18     1.12      [Fe/H]   0.145     4.34   \n",
              "2654         NaN  5502.00    1.06     1.02      [Fe/H]   0.009     4.39   \n",
              "2570         NaN  6021.00    1.14     0.98      [Fe/H]   0.034     4.35   \n",
              "\n",
              "      st_age  st_rotp      glat      glon    sy_pmdec      sy_dist     sy_plx  \n",
              "3009    4.37      NaN  13.51572  80.80071   -7.505880   616.637000   1.593200  \n",
              "1852    3.98      NaN  18.96771  79.57519   -7.082450   342.509000   2.890830  \n",
              "2512     NaN      NaN  15.04776  74.44132  -19.463100   247.771000   4.007050  \n",
              "1469     NaN      NaN -49.94032  51.46106   74.339100    66.432100  15.024200  \n",
              "3589    4.90      NaN  12.92363  73.89376    0.090604   591.776000   1.661150  \n",
              "3347   10.47      NaN  11.33166  80.68890    1.326260   992.852000   0.978491  \n",
              "4251    0.50      1.4 -56.64891  69.71519 -492.000000    12.429889  80.451243  \n",
              "2436    3.16      NaN  19.93538  78.45346    7.767660  1031.310000   0.940878  \n",
              "2654    6.30      NaN  11.28870  79.45283   20.872000   656.380000   1.494720  \n",
              "2570    5.80      NaN  19.64002  73.51949  -14.774300   968.544000   1.003920  "
            ]
          },
          "metadata": {},
          "execution_count": 24
        }
      ]
    },
    {
      "cell_type": "markdown",
      "metadata": {
        "id": "6KvR5eYi4s_z"
      },
      "source": [
        "---"
      ],
      "id": "6KvR5eYi4s_z"
    },
    {
      "cell_type": "markdown",
      "metadata": {
        "id": "PaZ1Xyth5vlP"
      },
      "source": [
        ""
      ],
      "id": "PaZ1Xyth5vlP"
    },
    {
      "cell_type": "markdown",
      "metadata": {
        "id": "9e-71YvRHZ7Z"
      },
      "source": [
        "## ***`Data Cleaning and Preprocessing`*** <a name=\"Data_Cleaning_and_Preprocessing\"></a>"
      ],
      "id": "9e-71YvRHZ7Z"
    },
    {
      "cell_type": "markdown",
      "metadata": {
        "id": "cq6kgLpCurO9"
      },
      "source": [
        "### 📃 **Instructions**\n",
        "In general, the following steps will be necessary for data preparation **in this specific order**:\n",
        "1. Outliers and unusual values (such as a negative age) are taken care of: they are either imputed, dropped, or set to missing values.\n",
        "2. Missing values are imputed or the rows containing them are dropped.\n",
        "3. Any categorical descriptive feature is encoded to be numeric as follows: \n",
        "   - one-hot-encoding for nominals, \n",
        "   - one-hot-encoding or integer-encoding for ordinals.\n",
        "4. All descriptive features (which are all numeric at this point) are scaled.\n",
        "5. In case of a classification problem, the target feature is label-encoded (in case of a binary problem, the positive class is encoded as 1).\n",
        "6. If the dataset has too many observations, only a small random subset of entire dataset is selected to be used during model tuning and model comparison. \n",
        "7. Before fitting any `Scikit-Learn` models, any `Pandas` series or data frame is converted to a `NumPy` array using the `values` method in Pandas.\n",
        "\n",
        "---\n",
        "\n",
        "\n"
      ],
      "id": "cq6kgLpCurO9"
    },
    {
      "cell_type": "markdown",
      "metadata": {
        "id": "que5CkeDuzg5"
      },
      "source": [
        "### **Create Data Branch** <a name=\"create_data_branch\"></a>\n",
        "Copy data from main into a workign dataframe. This is done too prevent reimporting the entire data from source if need be."
      ],
      "id": "que5CkeDuzg5"
    },
    {
      "cell_type": "code",
      "metadata": {
        "id": "3JKnDWt7I6AY"
      },
      "source": [
        "# Copy orignal data to a a working dataframe\n",
        "df = df_main.copy()"
      ],
      "id": "3JKnDWt7I6AY",
      "execution_count": 55,
      "outputs": []
    },
    {
      "cell_type": "markdown",
      "metadata": {
        "id": "JphgUvCGHPlN"
      },
      "source": [
        "### ⛔ **Removing Unnecessary Columns** <a name=\"Removing_Unnecessary_Columns\"></a>"
      ],
      "id": "JphgUvCGHPlN"
    },
    {
      "cell_type": "markdown",
      "metadata": {
        "id": "o5IbHtbrHmX6"
      },
      "source": [
        "The following columns has been identified to be either useless towards our analysis of the target feature or is not suitable for machine learning.\n",
        "\n",
        "Variables to drop:\n",
        "  - loc_rowid (ID column)\n",
        "  - pl_dens (Data already covered by mass and size)\n",
        "  - pl_insol (Similar feature to size)\n",
        "  - ttv_flag (Data not suitable for our analysis)\n",
        "  - st_spectype (Categorical version of solar luminosity)\n",
        "  - st_metratio (Bad values)\n",
        "  - st_logg (Similar feature to solar mass and size)\n",
        "  - st_rotp (Data unrelated to our target feature)\n",
        "  - sy_pmdec (Data unrelated to our target feature)"
      ],
      "id": "o5IbHtbrHmX6"
    },
    {
      "cell_type": "code",
      "metadata": {
        "id": "xzom2JWdZljO"
      },
      "source": [
        "# View all columns to find ones required for regression\n",
        "df.columns"
      ],
      "id": "xzom2JWdZljO",
      "execution_count": null,
      "outputs": []
    },
    {
      "cell_type": "code",
      "metadata": {
        "id": "ALxfhs-tdO2d"
      },
      "source": [
        "# Drop id and irrelevant columns\n",
        "del df['loc_rowid']\n",
        "del df['pl_dens']\n",
        "del df['pl_insol']\n",
        "del df['ttv_flag']\n",
        "del df['st_spectype']\n",
        "del df['st_metratio']\n",
        "del df['st_logg']\n",
        "del df['st_rotp']\n",
        "del df['sy_pmdec']\n",
        "del df['sy_mnum']\n",
        "# data check\n",
        "df.columns"
      ],
      "id": "ALxfhs-tdO2d",
      "execution_count": null,
      "outputs": []
    },
    {
      "cell_type": "markdown",
      "metadata": {
        "id": "tKIMVAbGzIT5"
      },
      "source": [
        "### **Renaming Columns** <a name=\"Rename_Columns\"></a>"
      ],
      "id": "tKIMVAbGzIT5"
    },
    {
      "cell_type": "code",
      "metadata": {
        "colab": {
          "base_uri": "https://localhost:8080/",
          "height": 206
        },
        "id": "H9P-uLydbtcI",
        "outputId": "5eab8b28-5c05-4ce1-b287-3ef73b10ef7a"
      },
      "source": [
        "# Change to readable column names.\n",
        "df.rename({\n",
        "      'sy_snum': 'num_star',\n",
        "      'sy_pnum': 'num_planet',\n",
        "      'cb_flag': '2_stars',\n",
        "      'pl_orbper': 'orbital_period',\n",
        "      'pl_orbsmax': 'semi-major_axis',\n",
        "      'pl_rade': 'planet_radius',\n",
        "      'pl_bmasse': 'planet_mass',\n",
        "      'pl_orbeccen': 'planet_eccen',\n",
        "      'pl_eqt': 'planet_temp',\n",
        "      'st_teff': 'star_temp',\n",
        "      'st_rad': 'star_radius',\n",
        "      'st_mass': 'star_mass',\n",
        "      'st_lum': 'star_bright',\n",
        "      'st_age': 'star_age',\n",
        "      'glat': 'latitude_gal',\n",
        "      'glon': 'longitude_gal',\n",
        "      'sy_dist': 'distance',\n",
        "      'sy_plx': 'parallax'\n",
        "      }, \n",
        "      axis=1, inplace=True\n",
        ")\n",
        "# data check\n",
        "df.head()"
      ],
      "id": "H9P-uLydbtcI",
      "execution_count": 57,
      "outputs": [
        {
          "output_type": "execute_result",
          "data": {
            "text/html": [
              "<div>\n",
              "<style scoped>\n",
              "    .dataframe tbody tr th:only-of-type {\n",
              "        vertical-align: middle;\n",
              "    }\n",
              "\n",
              "    .dataframe tbody tr th {\n",
              "        vertical-align: top;\n",
              "    }\n",
              "\n",
              "    .dataframe thead th {\n",
              "        text-align: right;\n",
              "    }\n",
              "</style>\n",
              "<table border=\"1\" class=\"dataframe\">\n",
              "  <thead>\n",
              "    <tr style=\"text-align: right;\">\n",
              "      <th></th>\n",
              "      <th>num_star</th>\n",
              "      <th>num_planet</th>\n",
              "      <th>2_stars</th>\n",
              "      <th>orbital_period</th>\n",
              "      <th>semi-major_axis</th>\n",
              "      <th>planet_radius</th>\n",
              "      <th>planet_mass</th>\n",
              "      <th>planet_eccen</th>\n",
              "      <th>planet_temp</th>\n",
              "      <th>star_temp</th>\n",
              "      <th>star_radius</th>\n",
              "      <th>star_mass</th>\n",
              "      <th>star_bright</th>\n",
              "      <th>star_age</th>\n",
              "      <th>latitude_gal</th>\n",
              "      <th>longitude_gal</th>\n",
              "      <th>distance</th>\n",
              "      <th>parallax</th>\n",
              "    </tr>\n",
              "  </thead>\n",
              "  <tbody>\n",
              "    <tr>\n",
              "      <th>0</th>\n",
              "      <td>2</td>\n",
              "      <td>1</td>\n",
              "      <td>0</td>\n",
              "      <td>326.03000</td>\n",
              "      <td>1.29</td>\n",
              "      <td>12.1</td>\n",
              "      <td>6165.6000</td>\n",
              "      <td>0.231</td>\n",
              "      <td>NaN</td>\n",
              "      <td>4742.0</td>\n",
              "      <td>19.00</td>\n",
              "      <td>2.70</td>\n",
              "      <td>2.243</td>\n",
              "      <td>NaN</td>\n",
              "      <td>78.28058</td>\n",
              "      <td>264.13775</td>\n",
              "      <td>93.1846</td>\n",
              "      <td>10.71040</td>\n",
              "    </tr>\n",
              "    <tr>\n",
              "      <th>1</th>\n",
              "      <td>1</td>\n",
              "      <td>1</td>\n",
              "      <td>0</td>\n",
              "      <td>516.21997</td>\n",
              "      <td>1.53</td>\n",
              "      <td>12.3</td>\n",
              "      <td>4684.8142</td>\n",
              "      <td>0.080</td>\n",
              "      <td>NaN</td>\n",
              "      <td>4213.0</td>\n",
              "      <td>29.79</td>\n",
              "      <td>2.78</td>\n",
              "      <td>2.430</td>\n",
              "      <td>1.56</td>\n",
              "      <td>41.04437</td>\n",
              "      <td>108.71900</td>\n",
              "      <td>125.3210</td>\n",
              "      <td>7.95388</td>\n",
              "    </tr>\n",
              "    <tr>\n",
              "      <th>2</th>\n",
              "      <td>1</td>\n",
              "      <td>1</td>\n",
              "      <td>0</td>\n",
              "      <td>185.84000</td>\n",
              "      <td>0.83</td>\n",
              "      <td>12.9</td>\n",
              "      <td>1525.5000</td>\n",
              "      <td>0.000</td>\n",
              "      <td>NaN</td>\n",
              "      <td>4813.0</td>\n",
              "      <td>11.00</td>\n",
              "      <td>2.20</td>\n",
              "      <td>1.763</td>\n",
              "      <td>4.50</td>\n",
              "      <td>-21.05141</td>\n",
              "      <td>106.41269</td>\n",
              "      <td>75.4392</td>\n",
              "      <td>13.22890</td>\n",
              "    </tr>\n",
              "    <tr>\n",
              "      <th>3</th>\n",
              "      <td>1</td>\n",
              "      <td>2</td>\n",
              "      <td>0</td>\n",
              "      <td>1773.40002</td>\n",
              "      <td>2.93</td>\n",
              "      <td>12.9</td>\n",
              "      <td>1481.0878</td>\n",
              "      <td>0.370</td>\n",
              "      <td>NaN</td>\n",
              "      <td>5338.0</td>\n",
              "      <td>0.93</td>\n",
              "      <td>0.90</td>\n",
              "      <td>-0.153</td>\n",
              "      <td>3.90</td>\n",
              "      <td>46.94447</td>\n",
              "      <td>69.16849</td>\n",
              "      <td>17.9323</td>\n",
              "      <td>55.73630</td>\n",
              "    </tr>\n",
              "    <tr>\n",
              "      <th>4</th>\n",
              "      <td>3</td>\n",
              "      <td>1</td>\n",
              "      <td>0</td>\n",
              "      <td>798.50000</td>\n",
              "      <td>1.66</td>\n",
              "      <td>13.5</td>\n",
              "      <td>565.7374</td>\n",
              "      <td>0.680</td>\n",
              "      <td>NaN</td>\n",
              "      <td>5750.0</td>\n",
              "      <td>1.13</td>\n",
              "      <td>1.08</td>\n",
              "      <td>0.097</td>\n",
              "      <td>7.40</td>\n",
              "      <td>13.20446</td>\n",
              "      <td>83.33558</td>\n",
              "      <td>21.1397</td>\n",
              "      <td>47.27540</td>\n",
              "    </tr>\n",
              "  </tbody>\n",
              "</table>\n",
              "</div>"
            ],
            "text/plain": [
              "   num_star  num_planet  2_stars  orbital_period  semi-major_axis  \\\n",
              "0         2           1        0       326.03000             1.29   \n",
              "1         1           1        0       516.21997             1.53   \n",
              "2         1           1        0       185.84000             0.83   \n",
              "3         1           2        0      1773.40002             2.93   \n",
              "4         3           1        0       798.50000             1.66   \n",
              "\n",
              "   planet_radius  planet_mass  planet_eccen  planet_temp  star_temp  \\\n",
              "0           12.1    6165.6000         0.231          NaN     4742.0   \n",
              "1           12.3    4684.8142         0.080          NaN     4213.0   \n",
              "2           12.9    1525.5000         0.000          NaN     4813.0   \n",
              "3           12.9    1481.0878         0.370          NaN     5338.0   \n",
              "4           13.5     565.7374         0.680          NaN     5750.0   \n",
              "\n",
              "   star_radius  star_mass  star_bright  star_age  latitude_gal  longitude_gal  \\\n",
              "0        19.00       2.70        2.243       NaN      78.28058      264.13775   \n",
              "1        29.79       2.78        2.430      1.56      41.04437      108.71900   \n",
              "2        11.00       2.20        1.763      4.50     -21.05141      106.41269   \n",
              "3         0.93       0.90       -0.153      3.90      46.94447       69.16849   \n",
              "4         1.13       1.08        0.097      7.40      13.20446       83.33558   \n",
              "\n",
              "   distance  parallax  \n",
              "0   93.1846  10.71040  \n",
              "1  125.3210   7.95388  \n",
              "2   75.4392  13.22890  \n",
              "3   17.9323  55.73630  \n",
              "4   21.1397  47.27540  "
            ]
          },
          "metadata": {},
          "execution_count": 57
        }
      ]
    },
    {
      "cell_type": "markdown",
      "metadata": {
        "id": "aJ83PqS8p2Pg"
      },
      "source": [
        "### **Calculate Additional Columns** <a name=\"Calculate_Additional_Columns\"></a>"
      ],
      "id": "aJ83PqS8p2Pg"
    },
    {
      "cell_type": "markdown",
      "metadata": {
        "id": "eNd_z0dnqIvk"
      },
      "source": [
        "For greater data visualisation of star systems, additional columns must be calculated. These columns include the following:\n",
        "    \n",
        "- Planet : Sun mass ratio (within a scale of 0 - 1) [kg]\n",
        "- Planet : Sun radius ratio (within a scale of 0 - 1) [km]\n",
        "\n",
        "The above shall be calcullated in the following cells.\n"
      ],
      "id": "eNd_z0dnqIvk"
    },
    {
      "cell_type": "code",
      "metadata": {
        "id": "5Z-lxirvq6Un"
      },
      "source": [
        "EARTH_MASS = 5.972 * (10**24)\n",
        "SUN_MASS = 1.989 * (10**30)\n",
        "EARTH_RADIUS = 6371 \n",
        "SUN_RADIUS = 696340 \n",
        "# mass ratio in kgs\n",
        "df['mass_ratio_sys'] = (df['planet_mass'] * EARTH_MASS) / (df['star_mass'] * SUN_MASS)\n",
        "# radius in km\n",
        "df['radius_ratio_sys'] = (df['planet_radius'] * EARTH_RADIUS) / (df['star_radius'] * SUN_RADIUS)\n",
        "# data check\n",
        "df[['mass_ratio_sys', 'radius_ratio_sys']].sample(15)"
      ],
      "id": "5Z-lxirvq6Un",
      "execution_count": null,
      "outputs": []
    },
    {
      "cell_type": "markdown",
      "metadata": {
        "id": "PgJbX7vJq69o"
      },
      "source": [
        "#### Data Properties <a name=\"Data_Properties\"></a>\n",
        "\n",
        "The folllowing code analyses some important properties of the modified data before any other processing may be completed."
      ],
      "id": "PgJbX7vJq69o"
    },
    {
      "cell_type": "code",
      "metadata": {
        "id": "EAB7N_TrdQhs"
      },
      "source": [
        "# Overview into data types and uniqueness\n",
        "print('Unique rows =', df.shape[0], '| Unique columns =', df.shape[1])\n",
        "print('-----')\n",
        "print('Data types: ', df.dtypes)\n",
        "print('-----')\n",
        "print('Unique values per column: ', df.nunique())"
      ],
      "id": "EAB7N_TrdQhs",
      "execution_count": null,
      "outputs": []
    },
    {
      "cell_type": "markdown",
      "metadata": {
        "id": "A1mYO6T1_Fgc"
      },
      "source": [
        "### 🔎 **Finding Outliers** <a name=\"Finding_Outliers\"></a>"
      ],
      "id": "A1mYO6T1_Fgc"
    },
    {
      "cell_type": "markdown",
      "metadata": {
        "id": "6RIKG7DOzsbt"
      },
      "source": [
        "Using the standard 1.5* outlier check, systems with either planets > 4, or star > 2 will be considered to be outliers. \n",
        "\n",
        "We know that these are reasonable data points therefore remvoing them will not be helpful for our study. Because of this we have decided to use a 3.0* outlier check which is common for astronomical data. (3)\n",
        "\n"
      ],
      "id": "6RIKG7DOzsbt"
    },
    {
      "cell_type": "code",
      "metadata": {
        "id": "_y8xFJYi_gWX"
      },
      "source": [
        "def set_outlier_nan():\n",
        "    \"\"\"\n",
        "    - Finds outliers and sets their values to NaN to be processed later.\n",
        "    - Excluded columns involves categories to be excluded from the outlier check\n",
        "    \"\"\"\n",
        "    excluded_columns = [\n",
        "                        'num_star',\n",
        "                        'num_planet',\n",
        "                        '2_stars',\n",
        "    ]\n",
        "    for column_name in df.columns: \n",
        "        # conditional to exclude certain columns from the outlier check\n",
        "        if column_name in excluded_columns:\n",
        "            continue\n",
        "        else:\n",
        "            column = df[column_name]\n",
        "            q1 = column.quantile(0.25)\n",
        "            q3 = column.quantile(0.75)\n",
        "            iqr = column.quantile(0.75) - column.quantile(0.25)\n",
        "\n",
        "            lower = q1 - 3 * iqr\n",
        "            upper = q3 + 3 * iqr\n",
        "            num_column_outliers = df[(column > upper) | (column < lower)]\\\n",
        "            .shape[0]\n",
        "            # set rows that exceeds outlier parameters to none\n",
        "            df[(column > upper) | (column < lower)].fillna(0)\n",
        "\n",
        "set_outlier_nan()\n",
        "df"
      ],
      "id": "_y8xFJYi_gWX",
      "execution_count": null,
      "outputs": []
    },
    {
      "cell_type": "markdown",
      "metadata": {
        "id": "BGGxKwXn6tFp"
      },
      "source": [
        "### 💻 **Processing Rows** <a name=\"Processing_Rows\"></a>"
      ],
      "id": "BGGxKwXn6tFp"
    },
    {
      "cell_type": "markdown",
      "metadata": {
        "id": "0cSdO0-b6xfm"
      },
      "source": [
        "#### Dropping NaN values <a name=\"dropping_nan_values\"></a>"
      ],
      "id": "0cSdO0-b6xfm"
    },
    {
      "cell_type": "code",
      "metadata": {
        "colab": {
          "base_uri": "https://localhost:8080/"
        },
        "id": "bhVF_j0aksoq",
        "outputId": "1e296c36-a25b-4a1c-951f-483fbf5462af"
      },
      "source": [
        "def drop_nan(df):\n",
        "    df = df.dropna()\n",
        "\n",
        "    nan_values = False\n",
        "    for column in df.isna().sum():\n",
        "        if not column == 0:\n",
        "            nan_values = True\n",
        "            break\n",
        "    return df, nan_values\n",
        "\n",
        "# Overview of null values\n",
        "print('Before: \\n', df.isna().sum())\n",
        "df, nan_values = drop_nan(df=df)\n",
        "print(f'''\n",
        "After:\n",
        "NaN Values?', {nan_values}\n",
        "\n",
        "Shape: {df.shape}''')"
      ],
      "id": "bhVF_j0aksoq",
      "execution_count": 60,
      "outputs": [
        {
          "output_type": "stream",
          "name": "stdout",
          "text": [
            "Before: \n",
            " num_star               0\n",
            "num_planet             0\n",
            "2_stars                0\n",
            "orbital_period       151\n",
            "semi-major_axis      184\n",
            "planet_radius         14\n",
            "planet_mass           22\n",
            "planet_eccen         540\n",
            "planet_temp         1146\n",
            "star_temp            122\n",
            "star_radius          141\n",
            "star_mass              4\n",
            "star_bright          136\n",
            "star_age             814\n",
            "latitude_gal           0\n",
            "longitude_gal          0\n",
            "distance               6\n",
            "parallax             192\n",
            "mass_ratio_sys        24\n",
            "radius_ratio_sys     152\n",
            "dtype: int64\n",
            "\n",
            "After:\n",
            "NaN Values?', False\n",
            "\n",
            "Shape: (2895, 20)\n"
          ]
        }
      ]
    },
    {
      "cell_type": "markdown",
      "metadata": {
        "id": "Tgfe0WrC4qlH"
      },
      "source": [
        "---"
      ],
      "id": "Tgfe0WrC4qlH"
    },
    {
      "cell_type": "markdown",
      "metadata": {
        "id": "i4G1_plxsZAR"
      },
      "source": [
        "## ***`Summary & Conclusions`*** <a name=\"Summary_and_Conclusions\"></a>"
      ],
      "id": "i4G1_plxsZAR"
    },
    {
      "cell_type": "markdown",
      "metadata": {
        "id": "R-VE7B5F0YRd"
      },
      "source": [
        " of the first phase of your project: a comprehensive summary of Phase 1 and any insights you gained in this phase as they relate to your goals and objectives."
      ],
      "id": "R-VE7B5F0YRd"
    },
    {
      "cell_type": "markdown",
      "metadata": {
        "id": "rvTkiiYg4orP"
      },
      "source": [
        "---"
      ],
      "id": "rvTkiiYg4orP"
    },
    {
      "cell_type": "markdown",
      "metadata": {
        "id": "oypOp_OEsZAR"
      },
      "source": [
        "## ***`Literature Review`*** <a name=\"Literature_Review\"></a>\n"
      ],
      "id": "oypOp_OEsZAR"
    },
    {
      "cell_type": "markdown",
      "metadata": {
        "id": "KGisqNF54kGJ"
      },
      "source": [
        "---"
      ],
      "id": "KGisqNF54kGJ"
    },
    {
      "cell_type": "markdown",
      "metadata": {
        "id": "GciTv7lX6MoV"
      },
      "source": [
        "## ***`References`*** <a name=\"References\"></a>"
      ],
      "id": "GciTv7lX6MoV"
    },
    {
      "cell_type": "markdown",
      "metadata": {
        "id": "9TIbGRfv0RL4"
      },
      "source": [
        "1. NASA Exoplanet Archive. (n.d.). Retrieved September 27, 2021, from https://exoplanetarchive.ipac.caltech.edu/ \"This research has made use of the NASA Exoplanet Archive, which is operated by the California Institute of Technology, under contract with the National Aeronautics and Space Administration under the Exoplanet Exploration Program.\"\n",
        "2. Greicius, T. (2018, April 12). What in the World is an 'Exoplanet?' Retrieved from https://www.nasa.gov/feature/jpl/what-in-the-world-is-an-exoplanet\n",
        "3. Zhang, Y., Luo, A., & Zhao, Y. (2004). Outlier detection in astronomical data. Optimizing Scientific Return for Astronomy through Information Technologies. doi:10.1117/12.550998\n",
        "4. Feature Selection and Ranking in Machine Learning\n",
        "http://www.featureranking.com/"
      ],
      "id": "9TIbGRfv0RL4"
    },
    {
      "cell_type": "code",
      "metadata": {
        "id": "WJk7Jzck0TBs"
      },
      "source": [
        ""
      ],
      "id": "WJk7Jzck0TBs",
      "execution_count": null,
      "outputs": []
    }
  ]
}