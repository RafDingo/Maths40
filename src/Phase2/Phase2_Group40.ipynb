{
  "nbformat": 4,
  "nbformat_minor": 5,
  "metadata": {
    "kernelspec": {
      "display_name": "Python 3 (ipykernel)",
      "language": "python",
      "name": "python3"
    },
    "language_info": {
      "codemirror_mode": {
        "name": "ipython",
        "version": 3
      },
      "file_extension": ".py",
      "mimetype": "text/x-python",
      "name": "python",
      "nbconvert_exporter": "python",
      "pygments_lexer": "ipython3",
      "version": "3.9.5"
    },
    "colab": {
      "name": "Drive_Phase2_Group40.ipynb",
      "provenance": [],
      "include_colab_link": true
    }
  },
  "cells": [
    {
      "cell_type": "markdown",
      "metadata": {
        "id": "view-in-github",
        "colab_type": "text"
      },
      "source": [
        "<a href=\"https://colab.research.google.com/github/RafDingo/Maths40/blob/main/src/Phase2/Phase2_Group40.ipynb\" target=\"_parent\"><img src=\"https://colab.research.google.com/assets/colab-badge.svg\" alt=\"Open In Colab\"/></a>"
      ]
    },
    {
      "cell_type": "markdown",
      "metadata": {
        "id": "0773433c"
      },
      "source": [
        "# Predicting ExoPlanet Discoverability based off Planetary Features \n",
        "## Phase 2: Statistical Modelling"
      ],
      "id": "0773433c"
    },
    {
      "cell_type": "markdown",
      "metadata": {
        "id": "d704ad9a"
      },
      "source": [
        "#### Group Name:\n",
        "\n",
        "#### Name(s) & ID(s) of Group Members:\n",
        "Rafat Mahiuddin (s3897093)\n",
        "#### "
      ],
      "id": "d704ad9a"
    },
    {
      "cell_type": "markdown",
      "metadata": {
        "id": "34ad87ce"
      },
      "source": [
        "## Table of Contents\n",
        "- [Introduction](#intro)\n",
        "- [Statistical Modelling](#sm)\n",
        "- [Critique & Limitations](#cl)\n",
        "- [Summary & Conclusions](#sc)"
      ],
      "id": "34ad87ce"
    },
    {
      "cell_type": "markdown",
      "metadata": {
        "id": "fa57a106"
      },
      "source": [
        "## Introduction <a id='intro'></a>"
      ],
      "id": "fa57a106"
    },
    {
      "cell_type": "markdown",
      "metadata": {
        "id": "c44eb8e3"
      },
      "source": [
        "### Phase 1 Summary"
      ],
      "id": "c44eb8e3"
    },
    {
      "cell_type": "markdown",
      "metadata": {
        "id": "c799c271"
      },
      "source": [
        "A brief yet complete and accurate summary of the work conducted for your Phase 1 report and how they relate to your Phase 2 report. \n",
        "\n",
        "**Important Phase 2 Note:** Please do NOT include your Phase 1 report or its contents with your Phase 2 submissions. You can, however, make some changes with your Phase 1 tasks if you need to, and then ONLY include these changes with your Phase 2 report with some explanation for these changes."
      ],
      "id": "c799c271"
    },
    {
      "cell_type": "markdown",
      "metadata": {
        "id": "99860a67"
      },
      "source": [
        "### Report Overview"
      ],
      "id": "99860a67"
    },
    {
      "cell_type": "markdown",
      "metadata": {
        "id": "e70a9bcc"
      },
      "source": [
        "A complete and accurate overview of the contents of your Phase 2 report. Clarification: A Table of Contents is not a report overview."
      ],
      "id": "e70a9bcc"
    },
    {
      "cell_type": "markdown",
      "metadata": {
        "id": "1d94a0e5"
      },
      "source": [
        "### Overview of Methodology"
      ],
      "id": "1d94a0e5"
    },
    {
      "cell_type": "markdown",
      "metadata": {
        "id": "89e432d3"
      },
      "source": [
        "A detailed, complete, and accurate overview of your statistical modelling methodology (which is multiple linear regression)."
      ],
      "id": "89e432d3"
    },
    {
      "cell_type": "markdown",
      "metadata": {
        "id": "bDLHJOeg27y3"
      },
      "source": [
        "## Data Processing"
      ],
      "id": "bDLHJOeg27y3"
    },
    {
      "cell_type": "markdown",
      "metadata": {
        "id": "hYT4RbsH3SZv"
      },
      "source": [
        "### Module Imports"
      ],
      "id": "hYT4RbsH3SZv"
    },
    {
      "cell_type": "code",
      "metadata": {
        "colab": {
          "base_uri": "https://localhost:8080/",
          "height": 258
        },
        "id": "o-CVNP9C3CAf",
        "outputId": "33b0ff09-147a-4f11-a3b7-1f397065e9b8"
      },
      "source": [
        "import numpy as np\n",
        "import pandas as pd\n",
        "import matplotlib.pyplot as plt\n",
        "import seaborn as sns\n",
        "import statsmodels.api as sm\n",
        "import statsmodels.formula.api as smf\n",
        "from sklearn.preprocessing import MinMaxScaler, RobustScaler\n",
        "import patsy\n",
        "\n",
        "import warnings\n",
        "warnings.filterwarnings('ignore')\n",
        "\n",
        "pd.set_option('display.max_columns', None) \n",
        "\n",
        "%matplotlib inline \n",
        "%config InlineBackend.figure_format = 'retina'\n",
        "plt.style.use(\"ggplot\")\n",
        "\n",
        "df = pd.read_csv('Phase2_Group40.csv')\n",
        "print('Old columns are:', df.columns.to_list())\n",
        "\n",
        "# Rename columns to be compatible with patsy\n",
        "df.rename({'semi-major_axis': 'semi_major_axis', '2_stars': 'two_stars'}, axis=1, inplace=True)\n",
        "print(\"After Rename:\")\n",
        "df.head()"
      ],
      "id": "o-CVNP9C3CAf",
      "execution_count": 84,
      "outputs": [
        {
          "output_type": "stream",
          "name": "stdout",
          "text": [
            "Old columns are: ['num_star', '2_stars', 'orbital_period', 'semi-major_axis', 'planet_radius', 'planet_mass', 'planet_eccen', 'planet_temp', 'star_temp', 'star_radius', 'star_mass', 'star_bright', 'star_age', 'latitude_gal', 'longitude_gal', 'distance', 'parallax', 'mass_ratio_sys', 'radius_ratio_sys', 'num_planet']\n",
            "After Rename:\n"
          ]
        },
        {
          "output_type": "execute_result",
          "data": {
            "text/html": [
              "<div>\n",
              "<style scoped>\n",
              "    .dataframe tbody tr th:only-of-type {\n",
              "        vertical-align: middle;\n",
              "    }\n",
              "\n",
              "    .dataframe tbody tr th {\n",
              "        vertical-align: top;\n",
              "    }\n",
              "\n",
              "    .dataframe thead th {\n",
              "        text-align: right;\n",
              "    }\n",
              "</style>\n",
              "<table border=\"1\" class=\"dataframe\">\n",
              "  <thead>\n",
              "    <tr style=\"text-align: right;\">\n",
              "      <th></th>\n",
              "      <th>num_star</th>\n",
              "      <th>two_stars</th>\n",
              "      <th>orbital_period</th>\n",
              "      <th>semi_major_axis</th>\n",
              "      <th>planet_radius</th>\n",
              "      <th>planet_mass</th>\n",
              "      <th>planet_eccen</th>\n",
              "      <th>planet_temp</th>\n",
              "      <th>star_temp</th>\n",
              "      <th>star_radius</th>\n",
              "      <th>star_mass</th>\n",
              "      <th>star_bright</th>\n",
              "      <th>star_age</th>\n",
              "      <th>latitude_gal</th>\n",
              "      <th>longitude_gal</th>\n",
              "      <th>distance</th>\n",
              "      <th>parallax</th>\n",
              "      <th>mass_ratio_sys</th>\n",
              "      <th>radius_ratio_sys</th>\n",
              "      <th>num_planet</th>\n",
              "    </tr>\n",
              "  </thead>\n",
              "  <tbody>\n",
              "    <tr>\n",
              "      <th>0</th>\n",
              "      <td>3</td>\n",
              "      <td>0</td>\n",
              "      <td>11688.000000</td>\n",
              "      <td>12.00000</td>\n",
              "      <td>13.400</td>\n",
              "      <td>635.6600</td>\n",
              "      <td>0.45</td>\n",
              "      <td>700.0</td>\n",
              "      <td>7295.0</td>\n",
              "      <td>1.49</td>\n",
              "      <td>1.65</td>\n",
              "      <td>0.752</td>\n",
              "      <td>0.020</td>\n",
              "      <td>-30.65764</td>\n",
              "      <td>198.61297</td>\n",
              "      <td>29.7575</td>\n",
              "      <td>33.5770</td>\n",
              "      <td>0.001157</td>\n",
              "      <td>0.082282</td>\n",
              "      <td>1</td>\n",
              "    </tr>\n",
              "    <tr>\n",
              "      <th>1</th>\n",
              "      <td>2</td>\n",
              "      <td>0</td>\n",
              "      <td>14.651600</td>\n",
              "      <td>0.11340</td>\n",
              "      <td>13.900</td>\n",
              "      <td>263.9785</td>\n",
              "      <td>0.00</td>\n",
              "      <td>700.0</td>\n",
              "      <td>5172.0</td>\n",
              "      <td>0.94</td>\n",
              "      <td>0.91</td>\n",
              "      <td>-0.197</td>\n",
              "      <td>5.500</td>\n",
              "      <td>37.69663</td>\n",
              "      <td>196.79526</td>\n",
              "      <td>12.5855</td>\n",
              "      <td>79.4274</td>\n",
              "      <td>0.000871</td>\n",
              "      <td>0.135292</td>\n",
              "      <td>5</td>\n",
              "    </tr>\n",
              "    <tr>\n",
              "      <th>2</th>\n",
              "      <td>2</td>\n",
              "      <td>0</td>\n",
              "      <td>0.736547</td>\n",
              "      <td>0.01544</td>\n",
              "      <td>1.875</td>\n",
              "      <td>7.9900</td>\n",
              "      <td>0.05</td>\n",
              "      <td>1958.0</td>\n",
              "      <td>5172.0</td>\n",
              "      <td>0.94</td>\n",
              "      <td>0.91</td>\n",
              "      <td>-0.197</td>\n",
              "      <td>10.200</td>\n",
              "      <td>37.69663</td>\n",
              "      <td>196.79526</td>\n",
              "      <td>12.5855</td>\n",
              "      <td>79.4274</td>\n",
              "      <td>0.000026</td>\n",
              "      <td>0.018250</td>\n",
              "      <td>5</td>\n",
              "    </tr>\n",
              "    <tr>\n",
              "      <th>3</th>\n",
              "      <td>1</td>\n",
              "      <td>0</td>\n",
              "      <td>8.463000</td>\n",
              "      <td>0.06450</td>\n",
              "      <td>4.070</td>\n",
              "      <td>17.0000</td>\n",
              "      <td>0.00</td>\n",
              "      <td>593.0</td>\n",
              "      <td>3700.0</td>\n",
              "      <td>0.75</td>\n",
              "      <td>0.50</td>\n",
              "      <td>-1.046</td>\n",
              "      <td>0.022</td>\n",
              "      <td>-36.80401</td>\n",
              "      <td>12.65304</td>\n",
              "      <td>9.7221</td>\n",
              "      <td>102.8290</td>\n",
              "      <td>0.000102</td>\n",
              "      <td>0.049650</td>\n",
              "      <td>2</td>\n",
              "    </tr>\n",
              "    <tr>\n",
              "      <th>4</th>\n",
              "      <td>1</td>\n",
              "      <td>0</td>\n",
              "      <td>18.859019</td>\n",
              "      <td>0.11010</td>\n",
              "      <td>3.240</td>\n",
              "      <td>13.6000</td>\n",
              "      <td>0.00</td>\n",
              "      <td>454.0</td>\n",
              "      <td>3700.0</td>\n",
              "      <td>0.75</td>\n",
              "      <td>0.50</td>\n",
              "      <td>-1.065</td>\n",
              "      <td>0.022</td>\n",
              "      <td>-36.80401</td>\n",
              "      <td>12.65304</td>\n",
              "      <td>9.7221</td>\n",
              "      <td>102.8290</td>\n",
              "      <td>0.000082</td>\n",
              "      <td>0.039525</td>\n",
              "      <td>2</td>\n",
              "    </tr>\n",
              "  </tbody>\n",
              "</table>\n",
              "</div>"
            ],
            "text/plain": [
              "   num_star  two_stars  orbital_period  semi_major_axis  planet_radius  \\\n",
              "0         3          0    11688.000000         12.00000         13.400   \n",
              "1         2          0       14.651600          0.11340         13.900   \n",
              "2         2          0        0.736547          0.01544          1.875   \n",
              "3         1          0        8.463000          0.06450          4.070   \n",
              "4         1          0       18.859019          0.11010          3.240   \n",
              "\n",
              "   planet_mass  planet_eccen  planet_temp  star_temp  star_radius  star_mass  \\\n",
              "0     635.6600          0.45        700.0     7295.0         1.49       1.65   \n",
              "1     263.9785          0.00        700.0     5172.0         0.94       0.91   \n",
              "2       7.9900          0.05       1958.0     5172.0         0.94       0.91   \n",
              "3      17.0000          0.00        593.0     3700.0         0.75       0.50   \n",
              "4      13.6000          0.00        454.0     3700.0         0.75       0.50   \n",
              "\n",
              "   star_bright  star_age  latitude_gal  longitude_gal  distance  parallax  \\\n",
              "0        0.752     0.020     -30.65764      198.61297   29.7575   33.5770   \n",
              "1       -0.197     5.500      37.69663      196.79526   12.5855   79.4274   \n",
              "2       -0.197    10.200      37.69663      196.79526   12.5855   79.4274   \n",
              "3       -1.046     0.022     -36.80401       12.65304    9.7221  102.8290   \n",
              "4       -1.065     0.022     -36.80401       12.65304    9.7221  102.8290   \n",
              "\n",
              "   mass_ratio_sys  radius_ratio_sys  num_planet  \n",
              "0        0.001157          0.082282           1  \n",
              "1        0.000871          0.135292           5  \n",
              "2        0.000026          0.018250           5  \n",
              "3        0.000102          0.049650           2  \n",
              "4        0.000082          0.039525           2  "
            ]
          },
          "metadata": {},
          "execution_count": 84
        }
      ]
    },
    {
      "cell_type": "markdown",
      "metadata": {
        "id": "umHanzPu7eHu"
      },
      "source": [
        "### One Hot Encoding"
      ],
      "id": "umHanzPu7eHu"
    },
    {
      "cell_type": "code",
      "metadata": {
        "colab": {
          "base_uri": "https://localhost:8080/"
        },
        "id": "ApYt_CEY7ij2",
        "outputId": "8b4c42ff-b7dd-4f2e-e10c-7c91f0f29498"
      },
      "source": [
        "cat_vars = [ \"num_star\", \"two_stars\", \"num_planet\"]\n",
        "\n",
        "for var in cat_vars:\n",
        "    df = df.astype({var: object})\n",
        "\n",
        "# Categorical encoding for less than 2 values\n",
        "for col in df.columns:\n",
        "    q = len(df[col].unique())\n",
        "    if (q == 2):\n",
        "        df[col] = pd.get_dummies(df[col], drop_first=True)\n",
        "# For categorical features > 2 levels\n",
        "df = pd.get_dummies(df)\n",
        "\n",
        "print(f\"There are now {df.shape[1]} columns with the column names {df.columns.to_list()} after one hot encoding\")\n",
        "df.dtypes"
      ],
      "id": "ApYt_CEY7ij2",
      "execution_count": 85,
      "outputs": [
        {
          "output_type": "stream",
          "name": "stdout",
          "text": [
            "There are now 30 columns with the column names ['two_stars', 'orbital_period', 'semi_major_axis', 'planet_radius', 'planet_mass', 'planet_eccen', 'planet_temp', 'star_temp', 'star_radius', 'star_mass', 'star_bright', 'star_age', 'latitude_gal', 'longitude_gal', 'distance', 'parallax', 'mass_ratio_sys', 'radius_ratio_sys', 'num_star_1', 'num_star_2', 'num_star_3', 'num_star_4', 'num_planet_1', 'num_planet_2', 'num_planet_3', 'num_planet_4', 'num_planet_5', 'num_planet_6', 'num_planet_7', 'num_planet_8'] after one hot encoding\n"
          ]
        },
        {
          "output_type": "execute_result",
          "data": {
            "text/plain": [
              "two_stars             uint8\n",
              "orbital_period      float64\n",
              "semi_major_axis     float64\n",
              "planet_radius       float64\n",
              "planet_mass         float64\n",
              "planet_eccen        float64\n",
              "planet_temp         float64\n",
              "star_temp           float64\n",
              "star_radius         float64\n",
              "star_mass           float64\n",
              "star_bright         float64\n",
              "star_age            float64\n",
              "latitude_gal        float64\n",
              "longitude_gal       float64\n",
              "distance            float64\n",
              "parallax            float64\n",
              "mass_ratio_sys      float64\n",
              "radius_ratio_sys    float64\n",
              "num_star_1            uint8\n",
              "num_star_2            uint8\n",
              "num_star_3            uint8\n",
              "num_star_4            uint8\n",
              "num_planet_1          uint8\n",
              "num_planet_2          uint8\n",
              "num_planet_3          uint8\n",
              "num_planet_4          uint8\n",
              "num_planet_5          uint8\n",
              "num_planet_6          uint8\n",
              "num_planet_7          uint8\n",
              "num_planet_8          uint8\n",
              "dtype: object"
            ]
          },
          "metadata": {},
          "execution_count": 85
        }
      ]
    },
    {
      "cell_type": "markdown",
      "metadata": {
        "id": "_tAIiYpM4ykr"
      },
      "source": [
        "### Data Normalisation"
      ],
      "id": "_tAIiYpM4ykr"
    },
    {
      "cell_type": "code",
      "metadata": {
        "colab": {
          "base_uri": "https://localhost:8080/"
        },
        "id": "liSBuCRb5f9I",
        "outputId": "0faba111-3290-4b49-82c6-eb5c36080f41"
      },
      "source": [
        "df_float = df.select_dtypes(include=['float64'])\n",
        "df_float.drop('planet_radius', inplace=True, axis=1)\n",
        "print(df_float.columns.to_list())\n",
        "# TODO: Check if RobustScaler gives out better results\n",
        "df_norm = MinMaxScaler().fit_transform(df_float)\n",
        "\n",
        "print(f\"The mean of each column in the df_norm dataframe is {np.round(df_norm.mean(axis=0),3)}\")"
      ],
      "id": "liSBuCRb5f9I",
      "execution_count": 86,
      "outputs": [
        {
          "output_type": "stream",
          "name": "stdout",
          "text": [
            "['orbital_period', 'semi_major_axis', 'planet_mass', 'planet_eccen', 'planet_temp', 'star_temp', 'star_radius', 'star_mass', 'star_bright', 'star_age', 'latitude_gal', 'longitude_gal', 'distance', 'parallax', 'mass_ratio_sys', 'radius_ratio_sys']\n",
            "The mean of each column in the df_norm dataframe is [0.001 0.005 0.005 0.029 0.204 0.388 0.164 0.328 0.69  0.301 0.536 0.278\n",
            " 0.157 0.016 0.005 0.004]\n"
          ]
        }
      ]
    },
    {
      "cell_type": "code",
      "metadata": {
        "colab": {
          "base_uri": "https://localhost:8080/",
          "height": 224
        },
        "id": "3te-g9sZGf4K",
        "outputId": "28b54232-19a0-4548-b78b-d1a83cdecbcf"
      },
      "source": [
        "df.loc[:, \n",
        "        ['orbital_period', 'semi_major_axis', 'planet_mass', 'planet_eccen',\n",
        "         'planet_temp', 'star_temp', 'star_radius', 'star_mass', 'star_bright',\n",
        "         'star_age', 'latitude_gal', 'longitude_gal', 'distance', 'parallax',\n",
        "         'mass_ratio_sys', 'radius_ratio_sys'\n",
        "        ]\n",
        "        ] = pd.DataFrame(df_norm, columns=[\n",
        "                                            'orbital_period', 'semi_major_axis',\n",
        "                                            'planet_mass', 'planet_eccen',\n",
        "                                            'planet_temp', 'star_temp',\n",
        "                                            'star_radius', 'star_mass',\n",
        "                                            'star_bright', 'star_age',\n",
        "                                            'latitude_gal', 'longitude_gal',\n",
        "                                            'distance', 'parallax',\n",
        "                                            'mass_ratio_sys', 'radius_ratio_sys'\n",
        "                                            ])\n",
        "df.head()"
      ],
      "id": "3te-g9sZGf4K",
      "execution_count": 87,
      "outputs": [
        {
          "output_type": "execute_result",
          "data": {
            "text/html": [
              "<div>\n",
              "<style scoped>\n",
              "    .dataframe tbody tr th:only-of-type {\n",
              "        vertical-align: middle;\n",
              "    }\n",
              "\n",
              "    .dataframe tbody tr th {\n",
              "        vertical-align: top;\n",
              "    }\n",
              "\n",
              "    .dataframe thead th {\n",
              "        text-align: right;\n",
              "    }\n",
              "</style>\n",
              "<table border=\"1\" class=\"dataframe\">\n",
              "  <thead>\n",
              "    <tr style=\"text-align: right;\">\n",
              "      <th></th>\n",
              "      <th>two_stars</th>\n",
              "      <th>orbital_period</th>\n",
              "      <th>semi_major_axis</th>\n",
              "      <th>planet_radius</th>\n",
              "      <th>planet_mass</th>\n",
              "      <th>planet_eccen</th>\n",
              "      <th>planet_temp</th>\n",
              "      <th>star_temp</th>\n",
              "      <th>star_radius</th>\n",
              "      <th>star_mass</th>\n",
              "      <th>star_bright</th>\n",
              "      <th>star_age</th>\n",
              "      <th>latitude_gal</th>\n",
              "      <th>longitude_gal</th>\n",
              "      <th>distance</th>\n",
              "      <th>parallax</th>\n",
              "      <th>mass_ratio_sys</th>\n",
              "      <th>radius_ratio_sys</th>\n",
              "      <th>num_star_1</th>\n",
              "      <th>num_star_2</th>\n",
              "      <th>num_star_3</th>\n",
              "      <th>num_star_4</th>\n",
              "      <th>num_planet_1</th>\n",
              "      <th>num_planet_2</th>\n",
              "      <th>num_planet_3</th>\n",
              "      <th>num_planet_4</th>\n",
              "      <th>num_planet_5</th>\n",
              "      <th>num_planet_6</th>\n",
              "      <th>num_planet_7</th>\n",
              "      <th>num_planet_8</th>\n",
              "    </tr>\n",
              "  </thead>\n",
              "  <tbody>\n",
              "    <tr>\n",
              "      <th>0</th>\n",
              "      <td>0</td>\n",
              "      <td>0.169388</td>\n",
              "      <td>0.315681</td>\n",
              "      <td>13.400</td>\n",
              "      <td>0.014782</td>\n",
              "      <td>0.483871</td>\n",
              "      <td>0.146497</td>\n",
              "      <td>0.621910</td>\n",
              "      <td>0.235294</td>\n",
              "      <td>0.579926</td>\n",
              "      <td>0.833676</td>\n",
              "      <td>0.001429</td>\n",
              "      <td>0.293852</td>\n",
              "      <td>0.551250</td>\n",
              "      <td>0.005908</td>\n",
              "      <td>0.110923</td>\n",
              "      <td>0.009317</td>\n",
              "      <td>0.008290</td>\n",
              "      <td>0</td>\n",
              "      <td>0</td>\n",
              "      <td>1</td>\n",
              "      <td>0</td>\n",
              "      <td>1</td>\n",
              "      <td>0</td>\n",
              "      <td>0</td>\n",
              "      <td>0</td>\n",
              "      <td>0</td>\n",
              "      <td>0</td>\n",
              "      <td>0</td>\n",
              "      <td>0</td>\n",
              "    </tr>\n",
              "    <tr>\n",
              "      <th>1</th>\n",
              "      <td>0</td>\n",
              "      <td>0.000208</td>\n",
              "      <td>0.002827</td>\n",
              "      <td>13.900</td>\n",
              "      <td>0.006138</td>\n",
              "      <td>0.000000</td>\n",
              "      <td>0.146497</td>\n",
              "      <td>0.342714</td>\n",
              "      <td>0.147854</td>\n",
              "      <td>0.304833</td>\n",
              "      <td>0.671287</td>\n",
              "      <td>0.392857</td>\n",
              "      <td>0.709214</td>\n",
              "      <td>0.546191</td>\n",
              "      <td>0.002075</td>\n",
              "      <td>0.261723</td>\n",
              "      <td>0.007015</td>\n",
              "      <td>0.013863</td>\n",
              "      <td>0</td>\n",
              "      <td>1</td>\n",
              "      <td>0</td>\n",
              "      <td>0</td>\n",
              "      <td>0</td>\n",
              "      <td>0</td>\n",
              "      <td>0</td>\n",
              "      <td>0</td>\n",
              "      <td>1</td>\n",
              "      <td>0</td>\n",
              "      <td>0</td>\n",
              "      <td>0</td>\n",
              "    </tr>\n",
              "    <tr>\n",
              "      <th>2</th>\n",
              "      <td>0</td>\n",
              "      <td>0.000007</td>\n",
              "      <td>0.000248</td>\n",
              "      <td>1.875</td>\n",
              "      <td>0.000185</td>\n",
              "      <td>0.053763</td>\n",
              "      <td>0.467006</td>\n",
              "      <td>0.342714</td>\n",
              "      <td>0.147854</td>\n",
              "      <td>0.304833</td>\n",
              "      <td>0.671287</td>\n",
              "      <td>0.728571</td>\n",
              "      <td>0.709214</td>\n",
              "      <td>0.546191</td>\n",
              "      <td>0.002075</td>\n",
              "      <td>0.261723</td>\n",
              "      <td>0.000212</td>\n",
              "      <td>0.001558</td>\n",
              "      <td>0</td>\n",
              "      <td>1</td>\n",
              "      <td>0</td>\n",
              "      <td>0</td>\n",
              "      <td>0</td>\n",
              "      <td>0</td>\n",
              "      <td>0</td>\n",
              "      <td>0</td>\n",
              "      <td>1</td>\n",
              "      <td>0</td>\n",
              "      <td>0</td>\n",
              "      <td>0</td>\n",
              "    </tr>\n",
              "    <tr>\n",
              "      <th>3</th>\n",
              "      <td>0</td>\n",
              "      <td>0.000119</td>\n",
              "      <td>0.001540</td>\n",
              "      <td>4.070</td>\n",
              "      <td>0.000395</td>\n",
              "      <td>0.000000</td>\n",
              "      <td>0.119236</td>\n",
              "      <td>0.149132</td>\n",
              "      <td>0.117647</td>\n",
              "      <td>0.152416</td>\n",
              "      <td>0.526010</td>\n",
              "      <td>0.001571</td>\n",
              "      <td>0.256503</td>\n",
              "      <td>0.033696</td>\n",
              "      <td>0.001436</td>\n",
              "      <td>0.338689</td>\n",
              "      <td>0.000821</td>\n",
              "      <td>0.004859</td>\n",
              "      <td>1</td>\n",
              "      <td>0</td>\n",
              "      <td>0</td>\n",
              "      <td>0</td>\n",
              "      <td>0</td>\n",
              "      <td>1</td>\n",
              "      <td>0</td>\n",
              "      <td>0</td>\n",
              "      <td>0</td>\n",
              "      <td>0</td>\n",
              "      <td>0</td>\n",
              "      <td>0</td>\n",
              "    </tr>\n",
              "    <tr>\n",
              "      <th>4</th>\n",
              "      <td>0</td>\n",
              "      <td>0.000269</td>\n",
              "      <td>0.002740</td>\n",
              "      <td>3.240</td>\n",
              "      <td>0.000316</td>\n",
              "      <td>0.000000</td>\n",
              "      <td>0.083822</td>\n",
              "      <td>0.149132</td>\n",
              "      <td>0.117647</td>\n",
              "      <td>0.152416</td>\n",
              "      <td>0.522758</td>\n",
              "      <td>0.001571</td>\n",
              "      <td>0.256503</td>\n",
              "      <td>0.033696</td>\n",
              "      <td>0.001436</td>\n",
              "      <td>0.338689</td>\n",
              "      <td>0.000657</td>\n",
              "      <td>0.003795</td>\n",
              "      <td>1</td>\n",
              "      <td>0</td>\n",
              "      <td>0</td>\n",
              "      <td>0</td>\n",
              "      <td>0</td>\n",
              "      <td>1</td>\n",
              "      <td>0</td>\n",
              "      <td>0</td>\n",
              "      <td>0</td>\n",
              "      <td>0</td>\n",
              "      <td>0</td>\n",
              "      <td>0</td>\n",
              "    </tr>\n",
              "  </tbody>\n",
              "</table>\n",
              "</div>"
            ],
            "text/plain": [
              "   two_stars  orbital_period  semi_major_axis  planet_radius  planet_mass  \\\n",
              "0          0        0.169388         0.315681         13.400     0.014782   \n",
              "1          0        0.000208         0.002827         13.900     0.006138   \n",
              "2          0        0.000007         0.000248          1.875     0.000185   \n",
              "3          0        0.000119         0.001540          4.070     0.000395   \n",
              "4          0        0.000269         0.002740          3.240     0.000316   \n",
              "\n",
              "   planet_eccen  planet_temp  star_temp  star_radius  star_mass  star_bright  \\\n",
              "0      0.483871     0.146497   0.621910     0.235294   0.579926     0.833676   \n",
              "1      0.000000     0.146497   0.342714     0.147854   0.304833     0.671287   \n",
              "2      0.053763     0.467006   0.342714     0.147854   0.304833     0.671287   \n",
              "3      0.000000     0.119236   0.149132     0.117647   0.152416     0.526010   \n",
              "4      0.000000     0.083822   0.149132     0.117647   0.152416     0.522758   \n",
              "\n",
              "   star_age  latitude_gal  longitude_gal  distance  parallax  mass_ratio_sys  \\\n",
              "0  0.001429      0.293852       0.551250  0.005908  0.110923        0.009317   \n",
              "1  0.392857      0.709214       0.546191  0.002075  0.261723        0.007015   \n",
              "2  0.728571      0.709214       0.546191  0.002075  0.261723        0.000212   \n",
              "3  0.001571      0.256503       0.033696  0.001436  0.338689        0.000821   \n",
              "4  0.001571      0.256503       0.033696  0.001436  0.338689        0.000657   \n",
              "\n",
              "   radius_ratio_sys  num_star_1  num_star_2  num_star_3  num_star_4  \\\n",
              "0          0.008290           0           0           1           0   \n",
              "1          0.013863           0           1           0           0   \n",
              "2          0.001558           0           1           0           0   \n",
              "3          0.004859           1           0           0           0   \n",
              "4          0.003795           1           0           0           0   \n",
              "\n",
              "   num_planet_1  num_planet_2  num_planet_3  num_planet_4  num_planet_5  \\\n",
              "0             1             0             0             0             0   \n",
              "1             0             0             0             0             1   \n",
              "2             0             0             0             0             1   \n",
              "3             0             1             0             0             0   \n",
              "4             0             1             0             0             0   \n",
              "\n",
              "   num_planet_6  num_planet_7  num_planet_8  \n",
              "0             0             0             0  \n",
              "1             0             0             0  \n",
              "2             0             0             0  \n",
              "3             0             0             0  \n",
              "4             0             0             0  "
            ]
          },
          "metadata": {},
          "execution_count": 87
        }
      ]
    },
    {
      "cell_type": "markdown",
      "metadata": {
        "id": "74723056"
      },
      "source": [
        "## Statistical Modelling <a id='sm'></a>"
      ],
      "id": "74723056"
    },
    {
      "cell_type": "markdown",
      "metadata": {
        "id": "8163a802"
      },
      "source": [
        "### Model Overview"
      ],
      "id": "8163a802"
    },
    {
      "cell_type": "markdown",
      "metadata": {
        "id": "ae5ed672"
      },
      "source": [
        "Overview of full model, including the variables and terms you are using in your regression model."
      ],
      "id": "ae5ed672"
    },
    {
      "cell_type": "markdown",
      "metadata": {
        "id": "ff2fd91d"
      },
      "source": [
        "### Model Fitting"
      ],
      "id": "ff2fd91d"
    },
    {
      "cell_type": "markdown",
      "metadata": {
        "id": "6a5d3206"
      },
      "source": [
        "Details of assumptions check, model selection, plots of residuals, and technical analysis of regression results.\n",
        "\n",
        "**NOTE:** The second half of [this](https://github.com/vaksakalli/stats_tutorials/blob/master/Regression_Case_Study1_web.ipynb) regression case study (\"Statistical Modeling and Performance Evaluation\" Section) will be **very helpful** for this Model Fitting section."
      ],
      "id": "6a5d3206"
    },
    {
      "cell_type": "markdown",
      "metadata": {
        "id": "7fc5a041"
      },
      "source": [
        "#### Feature Selection"
      ],
      "id": "7fc5a041"
    },
    {
      "cell_type": "markdown",
      "metadata": {
        "id": "zjo_PSZRLRNZ"
      },
      "source": [
        "##### Formula String"
      ],
      "id": "zjo_PSZRLRNZ"
    },
    {
      "cell_type": "code",
      "metadata": {
        "colab": {
          "base_uri": "https://localhost:8080/"
        },
        "id": "SVaXz1D4LQeo",
        "outputId": "8e9533f4-0952-499c-a6ad-5fedc6ab2f81"
      },
      "source": [
        "formula_string_indep_vars_encoded = ' + '.join(df.drop(columns='planet_radius').columns)\n",
        "formula_string_encoded = 'planet_radius ~ ' + formula_string_indep_vars_encoded\n",
        "print('formula_string_encoded: ', formula_string_encoded)"
      ],
      "id": "SVaXz1D4LQeo",
      "execution_count": 91,
      "outputs": [
        {
          "output_type": "stream",
          "name": "stdout",
          "text": [
            "formula_string_encoded:  planet_radius ~ two_stars + orbital_period + semi_major_axis + planet_mass + planet_eccen + planet_temp + star_temp + star_radius + star_mass + star_bright + star_age + latitude_gal + longitude_gal + distance + parallax + mass_ratio_sys + radius_ratio_sys + num_star_1 + num_star_2 + num_star_3 + num_star_4 + num_planet_1 + num_planet_2 + num_planet_3 + num_planet_4 + num_planet_5 + num_planet_6 + num_planet_7 + num_planet_8\n"
          ]
        }
      ]
    },
    {
      "cell_type": "markdown",
      "metadata": {
        "id": "AT_19Fg1L4lb"
      },
      "source": [
        "OLS model to encoded data"
      ],
      "id": "AT_19Fg1L4lb"
    },
    {
      "cell_type": "code",
      "metadata": {
        "colab": {
          "base_uri": "https://localhost:8080/"
        },
        "id": "vcIn5OhDMQoB",
        "outputId": "3c607349-12ea-4f24-ef73-eb0c0106c5fa"
      },
      "source": [
        "model_full = sm.formula.ols(formula=formula_string_encoded, data=df)\n",
        "###\n",
        "model_full_fitted = model_full.fit()\n",
        "###\n",
        "print(model_full_fitted.summary())"
      ],
      "id": "vcIn5OhDMQoB",
      "execution_count": 92,
      "outputs": [
        {
          "output_type": "stream",
          "name": "stdout",
          "text": [
            "                            OLS Regression Results                            \n",
            "==============================================================================\n",
            "Dep. Variable:          planet_radius   R-squared:                       0.536\n",
            "Model:                            OLS   Adj. R-squared:                  0.532\n",
            "Method:                 Least Squares   F-statistic:                     122.7\n",
            "Date:                Mon, 18 Oct 2021   Prob (F-statistic):               0.00\n",
            "Time:                        07:37:52   Log-Likelihood:                -7449.3\n",
            "No. Observations:                2895   AIC:                         1.495e+04\n",
            "Df Residuals:                    2867   BIC:                         1.512e+04\n",
            "Df Model:                          27                                         \n",
            "Covariance Type:            nonrobust                                         \n",
            "====================================================================================\n",
            "                       coef    std err          t      P>|t|      [0.025      0.975]\n",
            "------------------------------------------------------------------------------------\n",
            "Intercept            0.7988      0.921      0.867      0.386      -1.007       2.605\n",
            "two_stars           -2.9113      1.864     -1.562      0.118      -6.566       0.743\n",
            "orbital_period     -30.6009     11.370     -2.691      0.007     -52.895      -8.307\n",
            "semi_major_axis     37.9877     10.752      3.533      0.000      16.906      59.070\n",
            "planet_mass         12.3962      8.707      1.424      0.155      -4.676      29.468\n",
            "planet_eccen         6.5873      0.680      9.681      0.000       5.253       7.922\n",
            "planet_temp          7.6870      0.705     10.899      0.000       6.304       9.070\n",
            "star_temp           -9.0052      1.920     -4.691      0.000     -12.769      -5.241\n",
            "star_radius          7.2895      1.757      4.148      0.000       3.844      10.735\n",
            "star_mass           15.0163      1.684      8.919      0.000      11.715      18.317\n",
            "star_bright          0.7068      2.123      0.333      0.739      -3.456       4.869\n",
            "star_age             0.5362      0.326      1.646      0.100      -0.103       1.175\n",
            "latitude_gal        -4.8604      0.542     -8.972      0.000      -5.923      -3.798\n",
            "longitude_gal        6.2602      0.363     17.267      0.000       5.549       6.971\n",
            "distance            -2.8413      0.739     -3.846      0.000      -4.290      -1.393\n",
            "parallax            -5.4594      1.331     -4.102      0.000      -8.069      -2.850\n",
            "mass_ratio_sys       1.0250      9.740      0.105      0.916     -18.073      20.123\n",
            "radius_ratio_sys    33.4409      3.653      9.154      0.000      26.278      40.604\n",
            "num_star_1          -1.0597      0.789     -1.342      0.180      -2.608       0.488\n",
            "num_star_2           1.1431      0.796      1.437      0.151      -0.417       2.703\n",
            "num_star_3          -0.2366      0.956     -0.247      0.805      -2.111       1.638\n",
            "num_star_4           0.9520      2.942      0.324      0.746      -4.817       6.721\n",
            "num_planet_1         1.1624      0.285      4.076      0.000       0.603       1.722\n",
            "num_planet_2        -0.2165      0.294     -0.736      0.462      -0.794       0.361\n",
            "num_planet_3        -0.2995      0.307     -0.977      0.329      -0.901       0.302\n",
            "num_planet_4        -0.7053      0.336     -2.099      0.036      -1.364      -0.047\n",
            "num_planet_5        -0.5644      0.403     -1.401      0.161      -1.354       0.225\n",
            "num_planet_6        -1.1843      0.608     -1.946      0.052      -2.377       0.009\n",
            "num_planet_7         1.2998      1.179      1.102      0.270      -1.012       3.612\n",
            "num_planet_8         1.3066      1.103      1.184      0.236      -0.857       3.470\n",
            "==============================================================================\n",
            "Omnibus:                      404.907   Durbin-Watson:                   1.179\n",
            "Prob(Omnibus):                  0.000   Jarque-Bera (JB):             1300.536\n",
            "Skew:                           0.706   Prob(JB):                    3.91e-283\n",
            "Kurtosis:                       5.964   Cond. No.                     1.12e+16\n",
            "==============================================================================\n",
            "\n",
            "Warnings:\n",
            "[1] Standard Errors assume that the covariance matrix of the errors is correctly specified.\n",
            "[2] The smallest eigenvalue is 8.3e-29. This might indicate that there are\n",
            "strong multicollinearity problems or that the design matrix is singular.\n"
          ]
        }
      ]
    },
    {
      "cell_type": "markdown",
      "metadata": {
        "id": "e85c6e3e"
      },
      "source": [
        "You can use the code below to to perform backward feature selection using p-values ([credit](https://github.com/vaksakalli/stats_tutorials/blob/master/Regression_Case_Study1_web.ipynb))."
      ],
      "id": "e85c6e3e"
    },
    {
      "cell_type": "code",
      "metadata": {
        "id": "05f8dab1",
        "colab": {
          "base_uri": "https://localhost:8080/"
        },
        "outputId": "8f120c7b-4780-4b6f-9cfe-fc62a57ea09c"
      },
      "source": [
        "## create the patsy model description from formula\n",
        "patsy_description = patsy.ModelDesc.from_formula(formula_string_encoded)\n",
        "\n",
        "# initialize feature-selected fit to full model\n",
        "linreg_fit = model_full_fitted\n",
        "\n",
        "# do backwards elimination using p-values\n",
        "p_val_cutoff = 0.05\n",
        "\n",
        "# Encoded data\n",
        "data_encoded = df\n",
        "\n",
        "## WARNING 1: The code below assumes that the Intercept term is present in the model.\n",
        "## WARNING 2: It will work only with main effects and two-way interactions, if any.\n",
        "\n",
        "print('\\nPerforming backwards feature selection using p-values:')\n",
        "\n",
        "while True:\n",
        "\n",
        "    # uncomment the line below if you would like to see the regression summary\n",
        "    # in each step:\n",
        "    # print(linreg_fit.summary())\n",
        "\n",
        "    pval_series = linreg_fit.pvalues.drop(labels='Intercept')\n",
        "    pval_series = pval_series.sort_values(ascending=False)\n",
        "    term = pval_series.index[0]\n",
        "    pval = pval_series[0]\n",
        "    if (pval < p_val_cutoff):\n",
        "        break\n",
        "    term_components = term.split(':')\n",
        "    print(f'\\nRemoving term \"{term}\" with p-value {pval:.4}')\n",
        "    if (len(term_components) == 1): ## this is a main effect term\n",
        "        patsy_description.rhs_termlist.remove(patsy.Term([patsy.EvalFactor(term_components[0])]))    \n",
        "    else: ## this is an interaction term\n",
        "        patsy_description.rhs_termlist.remove(patsy.Term([patsy.EvalFactor(term_components[0]), \n",
        "                                                        patsy.EvalFactor(term_components[1])]))    \n",
        "        \n",
        "    linreg_fit = smf.ols(formula=patsy_description, data=data_encoded).fit()\n",
        "    \n",
        "###\n",
        "## this is the clean fit after backwards elimination\n",
        "model_reduced_fitted = smf.ols(formula=patsy_description, data=data_encoded).fit()\n",
        "###\n",
        "    \n",
        "#########\n",
        "print(\"\\n***\")\n",
        "print(model_reduced_fitted.summary())\n",
        "print(\"***\")\n",
        "print(f\"Regression number of terms: {len(model_reduced_fitted.model.exog_names)}\")\n",
        "print(f\"Regression F-distribution p-value: {model_reduced_fitted.f_pvalue:.4f}\")\n",
        "print(f\"Regression R-squared: {model_reduced_fitted.rsquared:.4f}\")\n",
        "print(f\"Regression Adjusted R-squared: {model_reduced_fitted.rsquared_adj:.4f}\")"
      ],
      "id": "05f8dab1",
      "execution_count": 93,
      "outputs": [
        {
          "output_type": "stream",
          "name": "stdout",
          "text": [
            "\n",
            "Performing backwards feature selection using p-values:\n",
            "\n",
            "Removing term \"mass_ratio_sys\" with p-value 0.9162\n",
            "\n",
            "Removing term \"num_star_3\" with p-value 0.803\n",
            "\n",
            "Removing term \"num_star_4\" with p-value 0.7509\n",
            "\n",
            "Removing term \"star_bright\" with p-value 0.734\n",
            "\n",
            "Removing term \"num_planet_2\" with p-value 0.4691\n",
            "\n",
            "Removing term \"num_planet_3\" with p-value 0.6848\n",
            "\n",
            "Removing term \"num_planet_5\" with p-value 0.3718\n",
            "\n",
            "Removing term \"num_planet_7\" with p-value 0.2592\n",
            "\n",
            "Removing term \"num_star_1\" with p-value 0.2365\n",
            "\n",
            "Removing term \"num_planet_8\" with p-value 0.1993\n",
            "\n",
            "Removing term \"two_stars\" with p-value 0.137\n",
            "\n",
            "Removing term \"num_planet_6\" with p-value 0.1358\n",
            "\n",
            "Removing term \"star_age\" with p-value 0.1502\n",
            "\n",
            "Removing term \"num_planet_4\" with p-value 0.08209\n",
            "\n",
            "***\n",
            "                            OLS Regression Results                            \n",
            "==============================================================================\n",
            "Dep. Variable:          planet_radius   R-squared:                       0.534\n",
            "Model:                            OLS   Adj. R-squared:                  0.531\n",
            "Method:                 Least Squares   F-statistic:                     219.6\n",
            "Date:                Mon, 18 Oct 2021   Prob (F-statistic):               0.00\n",
            "Time:                        07:37:56   Log-Likelihood:                -7456.9\n",
            "No. Observations:                2895   AIC:                         1.495e+04\n",
            "Df Residuals:                    2879   BIC:                         1.504e+04\n",
            "Df Model:                          15                                         \n",
            "Covariance Type:            nonrobust                                         \n",
            "====================================================================================\n",
            "                       coef    std err          t      P>|t|      [0.025      0.975]\n",
            "------------------------------------------------------------------------------------\n",
            "Intercept           -0.1236      0.418     -0.296      0.767      -0.943       0.696\n",
            "orbital_period     -32.3504     11.316     -2.859      0.004     -54.538     -10.163\n",
            "semi_major_axis     39.2765     10.692      3.673      0.000      18.311      60.242\n",
            "planet_mass         13.2433      1.209     10.955      0.000      10.873      15.614\n",
            "planet_eccen         6.6054      0.678      9.742      0.000       5.276       7.935\n",
            "planet_temp          7.8473      0.701     11.201      0.000       6.474       9.221\n",
            "star_temp           -8.7682      1.402     -6.252      0.000     -11.518      -6.018\n",
            "star_radius          7.7963      1.436      5.431      0.000       4.982      10.611\n",
            "star_mass           14.8286      1.626      9.118      0.000      11.640      18.017\n",
            "latitude_gal        -4.8133      0.531     -9.059      0.000      -5.855      -3.771\n",
            "longitude_gal        6.2970      0.359     17.523      0.000       5.592       7.002\n",
            "distance            -2.8361      0.690     -4.109      0.000      -4.189      -1.483\n",
            "parallax            -5.4918      1.293     -4.246      0.000      -8.028      -2.956\n",
            "radius_ratio_sys    34.3171      3.176     10.806      0.000      28.090      40.544\n",
            "num_star_2           2.0844      0.261      7.986      0.000       1.573       2.596\n",
            "num_planet_1         1.4925      0.127     11.771      0.000       1.244       1.741\n",
            "==============================================================================\n",
            "Omnibus:                      412.882   Durbin-Watson:                   1.180\n",
            "Prob(Omnibus):                  0.000   Jarque-Bera (JB):             1339.122\n",
            "Skew:                           0.717   Prob(JB):                    1.63e-291\n",
            "Kurtosis:                       6.007   Cond. No.                         377.\n",
            "==============================================================================\n",
            "\n",
            "Warnings:\n",
            "[1] Standard Errors assume that the covariance matrix of the errors is correctly specified.\n",
            "***\n",
            "Regression number of terms: 16\n",
            "Regression F-distribution p-value: 0.0000\n",
            "Regression R-squared: 0.5336\n",
            "Regression Adjusted R-squared: 0.5312\n"
          ]
        }
      ]
    },
    {
      "cell_type": "markdown",
      "metadata": {
        "id": "e0f30c49"
      },
      "source": [
        "## Critique & Limitations <a id='cl'></a>"
      ],
      "id": "e0f30c49"
    },
    {
      "cell_type": "markdown",
      "metadata": {
        "id": "d8fe68b2"
      },
      "source": [
        "Critique & Limitations of your approach: strengths and weaknesses in detail."
      ],
      "id": "d8fe68b2"
    },
    {
      "cell_type": "markdown",
      "metadata": {
        "id": "427e0dd7"
      },
      "source": [
        "## Summary & Conclusions <a id='sc'></a>"
      ],
      "id": "427e0dd7"
    },
    {
      "cell_type": "markdown",
      "metadata": {
        "id": "30a0df93"
      },
      "source": [
        "### Project Summary"
      ],
      "id": "30a0df93"
    },
    {
      "cell_type": "markdown",
      "metadata": {
        "id": "1111bc02"
      },
      "source": [
        "A comprehensive summary of your entire project (both Phase 1 and Phase 2). That is, what exactly did you do in your project? (Example: I first cleaned the data in such and such ways. And then I applied multiple linear regression techniques in such and such ways. etc)."
      ],
      "id": "1111bc02"
    },
    {
      "cell_type": "markdown",
      "metadata": {
        "id": "7a3df152"
      },
      "source": [
        "### Summary of Findings"
      ],
      "id": "7a3df152"
    },
    {
      "cell_type": "markdown",
      "metadata": {
        "id": "3f1287bc"
      },
      "source": [
        "A comprehensive summary of your findings. That is, what exactly did you find about your particular problem?"
      ],
      "id": "3f1287bc"
    },
    {
      "cell_type": "markdown",
      "metadata": {
        "id": "86265bf4"
      },
      "source": [
        "### Conclusions"
      ],
      "id": "86265bf4"
    },
    {
      "cell_type": "markdown",
      "metadata": {
        "id": "4f8c0986"
      },
      "source": [
        "Your detailed conclusions as they relate to your goals and objectives."
      ],
      "id": "4f8c0986"
    },
    {
      "cell_type": "code",
      "metadata": {
        "id": "6f973f58"
      },
      "source": [
        ""
      ],
      "id": "6f973f58",
      "execution_count": null,
      "outputs": []
    }
  ]
}